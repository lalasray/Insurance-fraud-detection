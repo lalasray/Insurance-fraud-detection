{
  "nbformat": 4,
  "nbformat_minor": 0,
  "metadata": {
    "hide_input": false,
    "kernelspec": {
      "display_name": "Python 3",
      "language": "python",
      "name": "python3"
    },
    "language_info": {
      "codemirror_mode": {
        "name": "ipython",
        "version": 3
      },
      "file_extension": ".py",
      "mimetype": "text/x-python",
      "name": "python",
      "nbconvert_exporter": "python",
      "pygments_lexer": "ipython3",
      "version": "3.8.3"
    },
    "latex_envs": {
      "LaTeX_envs_menu_present": true,
      "autoclose": false,
      "autocomplete": true,
      "bibliofile": "biblio.bib",
      "cite_by": "apalike",
      "current_citInitial": 1,
      "eqLabelWithNumbers": true,
      "eqNumInitial": 1,
      "hotkeys": {
        "equation": "Ctrl-E",
        "itemize": "Ctrl-I"
      },
      "labels_anchors": false,
      "latex_user_defs": false,
      "report_style_numbering": false,
      "user_envs_cfg": false
    },
    "toc": {
      "base_numbering": 1,
      "nav_menu": {},
      "number_sections": false,
      "sideBar": true,
      "skip_h1_title": false,
      "title_cell": "Table of Contents",
      "title_sidebar": "Contents",
      "toc_cell": false,
      "toc_position": {
        "height": "calc(100% - 180px)",
        "left": "10px",
        "top": "150px",
        "width": "384px"
      },
      "toc_section_display": true,
      "toc_window_display": true
    },
    "varInspector": {
      "cols": {
        "lenName": 16,
        "lenType": 16,
        "lenVar": 40
      },
      "kernels_config": {
        "python": {
          "delete_cmd_postfix": "",
          "delete_cmd_prefix": "del ",
          "library": "var_list.py",
          "varRefreshCmd": "print(var_dic_list())"
        },
        "r": {
          "delete_cmd_postfix": ") ",
          "delete_cmd_prefix": "rm(",
          "library": "var_list.r",
          "varRefreshCmd": "cat(var_dic_list()) "
        }
      },
      "types_to_exclude": [
        "module",
        "function",
        "builtin_function_or_method",
        "instance",
        "_Feature"
      ],
      "window_display": false
    },
    "colab": {
      "name": "Lala Shakti Swarup Ray- Test technical skill.ipynb",
      "provenance": [],
      "collapsed_sections": []
    }
  },
  "cells": [
    {
      "cell_type": "markdown",
      "metadata": {
        "id": "AA9KTBWheNWu"
      },
      "source": [
        "# Technical  skill test  - Data Science Internship\n",
        "\n",
        "Machine Learning   \n",
        "\n",
        "**Instructors**  \n",
        "Vanessa Trinh - Data Science - Henkel Global Supply Chain B.V\n",
        "<span style='color:crimson; font-weight: bold'>Submission deadline: 22 October 2021, 2pm CET</span>"
      ]
    },
    {
      "cell_type": "markdown",
      "metadata": {
        "id": "FSabHSqzeNWw"
      },
      "source": [
        "## Instructions\n",
        "\n",
        "* We strongly encourage you to experiment, try different approaches and combinations and get to know the problem from alternative angles."
      ]
    },
    {
      "cell_type": "code",
      "metadata": {
        "id": "MbwH5R4ueNWx"
      },
      "source": [
        "import pandas as pd\n",
        "import numpy as np\n",
        "import matplotlib.pyplot as plt\n",
        "import seaborn as sns\n",
        "from sklearn.dummy import DummyClassifier\n",
        "from sklearn.metrics import accuracy_score, f1_score, recall_score, precision_score,classification_report, confusion_matrix, make_scorer\n",
        "from sklearn.model_selection import RepeatedKFold\n",
        "from sklearn import linear_model\n",
        "from sklearn.model_selection import cross_validate\n",
        "from sklearn.tree import DecisionTreeClassifier\n",
        "from sklearn.ensemble import RandomForestClassifier\n",
        "from sklearn.ensemble import VotingClassifier\n",
        "from sklearn.svm import SVC\n",
        "import os"
      ],
      "execution_count": 1,
      "outputs": []
    },
    {
      "cell_type": "markdown",
      "metadata": {
        "id": "p3pMsCRheNWz"
      },
      "source": [
        "## Introduction\n",
        "\n",
        "\"*Insurance fraud is any act committed to defraud an insurance process. This occurs when a claimant attempts to obtain some benefit or advantage they are not entitled to, or when an insurer knowingly denies some benefit that is due.*\" -- [Wikipedia](https://en.wikipedia.org/wiki/Insurance_fraud)\n",
        "\n",
        "How can we predict, if an insurance claim was fraudulent or not? This dataset contains the information of insurance contracts where some are identified to be a fraud (`fraud=Y`). From the 38 features, we want to find an optimal way to classify the claims. \n",
        "\n",
        "* We also want to point out, that the data below only represents a starting point. We encourage you to come up with new features based on them, i.e. feature engineering.\n"
      ]
    },
    {
      "cell_type": "code",
      "metadata": {
        "colab": {
          "base_uri": "https://localhost:8080/",
          "height": 164
        },
        "id": "eWnualbdeNW0",
        "outputId": "557fd3fe-9f95-44fc-8cbf-76ffb177f1f2"
      },
      "source": [
        "path = os.path.join('insurance_claims.csv')\n",
        "\n",
        "df_data = pd.read_csv(path)\n",
        "df_data.head(2)"
      ],
      "execution_count": 2,
      "outputs": [
        {
          "output_type": "execute_result",
          "data": {
            "text/html": [
              "<div>\n",
              "<style scoped>\n",
              "    .dataframe tbody tr th:only-of-type {\n",
              "        vertical-align: middle;\n",
              "    }\n",
              "\n",
              "    .dataframe tbody tr th {\n",
              "        vertical-align: top;\n",
              "    }\n",
              "\n",
              "    .dataframe thead th {\n",
              "        text-align: right;\n",
              "    }\n",
              "</style>\n",
              "<table border=\"1\" class=\"dataframe\">\n",
              "  <thead>\n",
              "    <tr style=\"text-align: right;\">\n",
              "      <th></th>\n",
              "      <th>months_as_customer</th>\n",
              "      <th>age</th>\n",
              "      <th>policy_number</th>\n",
              "      <th>policy_bind_date</th>\n",
              "      <th>policy_state</th>\n",
              "      <th>policy_csl</th>\n",
              "      <th>policy_deductable</th>\n",
              "      <th>policy_annual_premium</th>\n",
              "      <th>umbrella_limit</th>\n",
              "      <th>insured_zip</th>\n",
              "      <th>insured_sex</th>\n",
              "      <th>insured_education_level</th>\n",
              "      <th>insured_occupation</th>\n",
              "      <th>insured_hobbies</th>\n",
              "      <th>insured_relationship</th>\n",
              "      <th>capital-gains</th>\n",
              "      <th>capital-loss</th>\n",
              "      <th>incident_date</th>\n",
              "      <th>incident_type</th>\n",
              "      <th>collision_type</th>\n",
              "      <th>incident_severity</th>\n",
              "      <th>authorities_contacted</th>\n",
              "      <th>incident_state</th>\n",
              "      <th>incident_city</th>\n",
              "      <th>incident_location</th>\n",
              "      <th>incident_hour_of_the_day</th>\n",
              "      <th>number_of_vehicles_involved</th>\n",
              "      <th>property_damage</th>\n",
              "      <th>bodily_injuries</th>\n",
              "      <th>witnesses</th>\n",
              "      <th>police_report_available</th>\n",
              "      <th>total_claim_amount</th>\n",
              "      <th>injury_claim</th>\n",
              "      <th>property_claim</th>\n",
              "      <th>vehicle_claim</th>\n",
              "      <th>auto_make</th>\n",
              "      <th>auto_model</th>\n",
              "      <th>auto_year</th>\n",
              "      <th>fraud_reported</th>\n",
              "    </tr>\n",
              "  </thead>\n",
              "  <tbody>\n",
              "    <tr>\n",
              "      <th>0</th>\n",
              "      <td>328</td>\n",
              "      <td>48</td>\n",
              "      <td>521585</td>\n",
              "      <td>17-10-14</td>\n",
              "      <td>OH</td>\n",
              "      <td>250/500</td>\n",
              "      <td>1000</td>\n",
              "      <td>1406.91</td>\n",
              "      <td>0</td>\n",
              "      <td>466132</td>\n",
              "      <td>MALE</td>\n",
              "      <td>MD</td>\n",
              "      <td>craft-repair</td>\n",
              "      <td>sleeping</td>\n",
              "      <td>husband</td>\n",
              "      <td>53300</td>\n",
              "      <td>0</td>\n",
              "      <td>25-01-15</td>\n",
              "      <td>Single Vehicle Collision</td>\n",
              "      <td>Side Collision</td>\n",
              "      <td>Major Damage</td>\n",
              "      <td>Police</td>\n",
              "      <td>SC</td>\n",
              "      <td>Columbus</td>\n",
              "      <td>9935 4th Drive</td>\n",
              "      <td>5</td>\n",
              "      <td>1</td>\n",
              "      <td>YES</td>\n",
              "      <td>1</td>\n",
              "      <td>2</td>\n",
              "      <td>YES</td>\n",
              "      <td>71610</td>\n",
              "      <td>6510</td>\n",
              "      <td>13020</td>\n",
              "      <td>52080</td>\n",
              "      <td>Saab</td>\n",
              "      <td>92x</td>\n",
              "      <td>2004</td>\n",
              "      <td>Y</td>\n",
              "    </tr>\n",
              "    <tr>\n",
              "      <th>1</th>\n",
              "      <td>228</td>\n",
              "      <td>42</td>\n",
              "      <td>342868</td>\n",
              "      <td>27-06-06</td>\n",
              "      <td>IN</td>\n",
              "      <td>250/500</td>\n",
              "      <td>2000</td>\n",
              "      <td>1197.22</td>\n",
              "      <td>5000000</td>\n",
              "      <td>468176</td>\n",
              "      <td>MALE</td>\n",
              "      <td>MD</td>\n",
              "      <td>machine-op-inspct</td>\n",
              "      <td>reading</td>\n",
              "      <td>other-relative</td>\n",
              "      <td>0</td>\n",
              "      <td>0</td>\n",
              "      <td>21-01-15</td>\n",
              "      <td>Vehicle Theft</td>\n",
              "      <td>?</td>\n",
              "      <td>Minor Damage</td>\n",
              "      <td>Police</td>\n",
              "      <td>VA</td>\n",
              "      <td>Riverwood</td>\n",
              "      <td>6608 MLK Hwy</td>\n",
              "      <td>8</td>\n",
              "      <td>1</td>\n",
              "      <td>?</td>\n",
              "      <td>0</td>\n",
              "      <td>0</td>\n",
              "      <td>?</td>\n",
              "      <td>5070</td>\n",
              "      <td>780</td>\n",
              "      <td>780</td>\n",
              "      <td>3510</td>\n",
              "      <td>Mercedes</td>\n",
              "      <td>E400</td>\n",
              "      <td>2007</td>\n",
              "      <td>Y</td>\n",
              "    </tr>\n",
              "  </tbody>\n",
              "</table>\n",
              "</div>"
            ],
            "text/plain": [
              "   months_as_customer  age  policy_number  ... auto_model auto_year fraud_reported\n",
              "0                 328   48         521585  ...        92x      2004              Y\n",
              "1                 228   42         342868  ...       E400      2007              Y\n",
              "\n",
              "[2 rows x 39 columns]"
            ]
          },
          "metadata": {},
          "execution_count": 2
        }
      ]
    },
    {
      "cell_type": "markdown",
      "metadata": {
        "id": "ByVfeTGheNW0"
      },
      "source": [
        "## Preparation"
      ]
    },
    {
      "cell_type": "markdown",
      "metadata": {
        "id": "7k857yJSeNW0"
      },
      "source": [
        "Before we start the analysis, we prepare the data by labelling them correctly and splitting into targets and features. We will start with a binary classification (`fraud_reported`)."
      ]
    },
    {
      "cell_type": "code",
      "metadata": {
        "id": "pjjhhvnqeNW1"
      },
      "source": [
        "target_name = 'fraud_reported'\n",
        "\n",
        "# `sr_` prefix stands for a pandas Series\n",
        "sr_targets = df_data.loc[:,target_name]\n",
        "sr_targets = (sr_targets == 'Y').astype(int)"
      ],
      "execution_count": 3,
      "outputs": []
    },
    {
      "cell_type": "markdown",
      "metadata": {
        "id": "so0evA8jeNW1"
      },
      "source": [
        "These targets can take on two values."
      ]
    },
    {
      "cell_type": "code",
      "metadata": {
        "id": "KHK5UtuQeNW2"
      },
      "source": [
        "label_values = [1,0]\n",
        "label_names = ['fraudulent', 'valid']"
      ],
      "execution_count": 4,
      "outputs": []
    },
    {
      "cell_type": "markdown",
      "metadata": {
        "id": "gXIjg5nceNW2"
      },
      "source": [
        "The features are as described above. Let us use the short names from now on and extract those from the dataset."
      ]
    },
    {
      "cell_type": "code",
      "metadata": {
        "id": "8AwG7h_xeNW3"
      },
      "source": [
        "# `df_` prefix stands for a pandas DataFrame\n",
        "df_features_raw = df_data.drop(target_name, axis=1)"
      ],
      "execution_count": 5,
      "outputs": []
    },
    {
      "cell_type": "markdown",
      "metadata": {
        "id": "MPYOnE2neNW3"
      },
      "source": [
        "# Question 1\n",
        "\n",
        "Get familiar with the data. Use visual aids to get an overview of the data. Find descriptives about the data, in particular, how do you treat missing values and outliers? \n",
        "\n",
        "You see below that the dataframe contains different data types. Pre-process the data as you see necessary. How do you treat the different data types? Create, remove, modify, transform or combine features as you see fit.\n",
        "\n",
        "**Hint:** Don't aim at finishing this question right at the beginning. It's likely that you will come back to this step when solving the subsequent questions."
      ]
    },
    {
      "cell_type": "code",
      "metadata": {
        "scrolled": true,
        "colab": {
          "base_uri": "https://localhost:8080/"
        },
        "id": "vFz3fhGmeNW4",
        "outputId": "2035c682-4d10-4004-a255-fcc82f26452b"
      },
      "source": [
        "df_features_raw.dtypes"
      ],
      "execution_count": 6,
      "outputs": [
        {
          "output_type": "execute_result",
          "data": {
            "text/plain": [
              "months_as_customer               int64\n",
              "age                              int64\n",
              "policy_number                    int64\n",
              "policy_bind_date                object\n",
              "policy_state                    object\n",
              "policy_csl                      object\n",
              "policy_deductable                int64\n",
              "policy_annual_premium          float64\n",
              "umbrella_limit                   int64\n",
              "insured_zip                      int64\n",
              "insured_sex                     object\n",
              "insured_education_level         object\n",
              "insured_occupation              object\n",
              "insured_hobbies                 object\n",
              "insured_relationship            object\n",
              "capital-gains                    int64\n",
              "capital-loss                     int64\n",
              "incident_date                   object\n",
              "incident_type                   object\n",
              "collision_type                  object\n",
              "incident_severity               object\n",
              "authorities_contacted           object\n",
              "incident_state                  object\n",
              "incident_city                   object\n",
              "incident_location               object\n",
              "incident_hour_of_the_day         int64\n",
              "number_of_vehicles_involved      int64\n",
              "property_damage                 object\n",
              "bodily_injuries                  int64\n",
              "witnesses                        int64\n",
              "police_report_available         object\n",
              "total_claim_amount               int64\n",
              "injury_claim                     int64\n",
              "property_claim                   int64\n",
              "vehicle_claim                    int64\n",
              "auto_make                       object\n",
              "auto_model                      object\n",
              "auto_year                        int64\n",
              "dtype: object"
            ]
          },
          "metadata": {},
          "execution_count": 6
        }
      ]
    },
    {
      "cell_type": "code",
      "metadata": {
        "colab": {
          "base_uri": "https://localhost:8080/",
          "height": 332
        },
        "id": "-Y7havaPeNW5",
        "outputId": "42fee31f-00ac-4261-ac20-7f845c01f34b"
      },
      "source": [
        "# Your answer\n",
        "df_data.describe()"
      ],
      "execution_count": 7,
      "outputs": [
        {
          "output_type": "execute_result",
          "data": {
            "text/html": [
              "<div>\n",
              "<style scoped>\n",
              "    .dataframe tbody tr th:only-of-type {\n",
              "        vertical-align: middle;\n",
              "    }\n",
              "\n",
              "    .dataframe tbody tr th {\n",
              "        vertical-align: top;\n",
              "    }\n",
              "\n",
              "    .dataframe thead th {\n",
              "        text-align: right;\n",
              "    }\n",
              "</style>\n",
              "<table border=\"1\" class=\"dataframe\">\n",
              "  <thead>\n",
              "    <tr style=\"text-align: right;\">\n",
              "      <th></th>\n",
              "      <th>months_as_customer</th>\n",
              "      <th>age</th>\n",
              "      <th>policy_number</th>\n",
              "      <th>policy_deductable</th>\n",
              "      <th>policy_annual_premium</th>\n",
              "      <th>umbrella_limit</th>\n",
              "      <th>insured_zip</th>\n",
              "      <th>capital-gains</th>\n",
              "      <th>capital-loss</th>\n",
              "      <th>incident_hour_of_the_day</th>\n",
              "      <th>number_of_vehicles_involved</th>\n",
              "      <th>bodily_injuries</th>\n",
              "      <th>witnesses</th>\n",
              "      <th>total_claim_amount</th>\n",
              "      <th>injury_claim</th>\n",
              "      <th>property_claim</th>\n",
              "      <th>vehicle_claim</th>\n",
              "      <th>auto_year</th>\n",
              "    </tr>\n",
              "  </thead>\n",
              "  <tbody>\n",
              "    <tr>\n",
              "      <th>count</th>\n",
              "      <td>1000.000000</td>\n",
              "      <td>1000.000000</td>\n",
              "      <td>1000.000000</td>\n",
              "      <td>1000.000000</td>\n",
              "      <td>1000.000000</td>\n",
              "      <td>1.000000e+03</td>\n",
              "      <td>1000.000000</td>\n",
              "      <td>1000.000000</td>\n",
              "      <td>1000.000000</td>\n",
              "      <td>1000.000000</td>\n",
              "      <td>1000.00000</td>\n",
              "      <td>1000.000000</td>\n",
              "      <td>1000.000000</td>\n",
              "      <td>1000.00000</td>\n",
              "      <td>1000.000000</td>\n",
              "      <td>1000.000000</td>\n",
              "      <td>1000.000000</td>\n",
              "      <td>1000.000000</td>\n",
              "    </tr>\n",
              "    <tr>\n",
              "      <th>mean</th>\n",
              "      <td>203.954000</td>\n",
              "      <td>38.948000</td>\n",
              "      <td>546238.648000</td>\n",
              "      <td>1136.000000</td>\n",
              "      <td>1256.406150</td>\n",
              "      <td>1.101000e+06</td>\n",
              "      <td>501214.488000</td>\n",
              "      <td>25126.100000</td>\n",
              "      <td>-26793.700000</td>\n",
              "      <td>11.644000</td>\n",
              "      <td>1.83900</td>\n",
              "      <td>0.992000</td>\n",
              "      <td>1.487000</td>\n",
              "      <td>52761.94000</td>\n",
              "      <td>7433.420000</td>\n",
              "      <td>7399.570000</td>\n",
              "      <td>37928.950000</td>\n",
              "      <td>2005.103000</td>\n",
              "    </tr>\n",
              "    <tr>\n",
              "      <th>std</th>\n",
              "      <td>115.113174</td>\n",
              "      <td>9.140287</td>\n",
              "      <td>257063.005276</td>\n",
              "      <td>611.864673</td>\n",
              "      <td>244.167395</td>\n",
              "      <td>2.297407e+06</td>\n",
              "      <td>71701.610941</td>\n",
              "      <td>27872.187708</td>\n",
              "      <td>28104.096686</td>\n",
              "      <td>6.951373</td>\n",
              "      <td>1.01888</td>\n",
              "      <td>0.820127</td>\n",
              "      <td>1.111335</td>\n",
              "      <td>26401.53319</td>\n",
              "      <td>4880.951853</td>\n",
              "      <td>4824.726179</td>\n",
              "      <td>18886.252893</td>\n",
              "      <td>6.015861</td>\n",
              "    </tr>\n",
              "    <tr>\n",
              "      <th>min</th>\n",
              "      <td>0.000000</td>\n",
              "      <td>19.000000</td>\n",
              "      <td>100804.000000</td>\n",
              "      <td>500.000000</td>\n",
              "      <td>433.330000</td>\n",
              "      <td>-1.000000e+06</td>\n",
              "      <td>430104.000000</td>\n",
              "      <td>0.000000</td>\n",
              "      <td>-111100.000000</td>\n",
              "      <td>0.000000</td>\n",
              "      <td>1.00000</td>\n",
              "      <td>0.000000</td>\n",
              "      <td>0.000000</td>\n",
              "      <td>100.00000</td>\n",
              "      <td>0.000000</td>\n",
              "      <td>0.000000</td>\n",
              "      <td>70.000000</td>\n",
              "      <td>1995.000000</td>\n",
              "    </tr>\n",
              "    <tr>\n",
              "      <th>25%</th>\n",
              "      <td>115.750000</td>\n",
              "      <td>32.000000</td>\n",
              "      <td>335980.250000</td>\n",
              "      <td>500.000000</td>\n",
              "      <td>1089.607500</td>\n",
              "      <td>0.000000e+00</td>\n",
              "      <td>448404.500000</td>\n",
              "      <td>0.000000</td>\n",
              "      <td>-51500.000000</td>\n",
              "      <td>6.000000</td>\n",
              "      <td>1.00000</td>\n",
              "      <td>0.000000</td>\n",
              "      <td>1.000000</td>\n",
              "      <td>41812.50000</td>\n",
              "      <td>4295.000000</td>\n",
              "      <td>4445.000000</td>\n",
              "      <td>30292.500000</td>\n",
              "      <td>2000.000000</td>\n",
              "    </tr>\n",
              "    <tr>\n",
              "      <th>50%</th>\n",
              "      <td>199.500000</td>\n",
              "      <td>38.000000</td>\n",
              "      <td>533135.000000</td>\n",
              "      <td>1000.000000</td>\n",
              "      <td>1257.200000</td>\n",
              "      <td>0.000000e+00</td>\n",
              "      <td>466445.500000</td>\n",
              "      <td>0.000000</td>\n",
              "      <td>-23250.000000</td>\n",
              "      <td>12.000000</td>\n",
              "      <td>1.00000</td>\n",
              "      <td>1.000000</td>\n",
              "      <td>1.000000</td>\n",
              "      <td>58055.00000</td>\n",
              "      <td>6775.000000</td>\n",
              "      <td>6750.000000</td>\n",
              "      <td>42100.000000</td>\n",
              "      <td>2005.000000</td>\n",
              "    </tr>\n",
              "    <tr>\n",
              "      <th>75%</th>\n",
              "      <td>276.250000</td>\n",
              "      <td>44.000000</td>\n",
              "      <td>759099.750000</td>\n",
              "      <td>2000.000000</td>\n",
              "      <td>1415.695000</td>\n",
              "      <td>0.000000e+00</td>\n",
              "      <td>603251.000000</td>\n",
              "      <td>51025.000000</td>\n",
              "      <td>0.000000</td>\n",
              "      <td>17.000000</td>\n",
              "      <td>3.00000</td>\n",
              "      <td>2.000000</td>\n",
              "      <td>2.000000</td>\n",
              "      <td>70592.50000</td>\n",
              "      <td>11305.000000</td>\n",
              "      <td>10885.000000</td>\n",
              "      <td>50822.500000</td>\n",
              "      <td>2010.000000</td>\n",
              "    </tr>\n",
              "    <tr>\n",
              "      <th>max</th>\n",
              "      <td>479.000000</td>\n",
              "      <td>64.000000</td>\n",
              "      <td>999435.000000</td>\n",
              "      <td>2000.000000</td>\n",
              "      <td>2047.590000</td>\n",
              "      <td>1.000000e+07</td>\n",
              "      <td>620962.000000</td>\n",
              "      <td>100500.000000</td>\n",
              "      <td>0.000000</td>\n",
              "      <td>23.000000</td>\n",
              "      <td>4.00000</td>\n",
              "      <td>2.000000</td>\n",
              "      <td>3.000000</td>\n",
              "      <td>114920.00000</td>\n",
              "      <td>21450.000000</td>\n",
              "      <td>23670.000000</td>\n",
              "      <td>79560.000000</td>\n",
              "      <td>2015.000000</td>\n",
              "    </tr>\n",
              "  </tbody>\n",
              "</table>\n",
              "</div>"
            ],
            "text/plain": [
              "       months_as_customer          age  ...  vehicle_claim    auto_year\n",
              "count         1000.000000  1000.000000  ...    1000.000000  1000.000000\n",
              "mean           203.954000    38.948000  ...   37928.950000  2005.103000\n",
              "std            115.113174     9.140287  ...   18886.252893     6.015861\n",
              "min              0.000000    19.000000  ...      70.000000  1995.000000\n",
              "25%            115.750000    32.000000  ...   30292.500000  2000.000000\n",
              "50%            199.500000    38.000000  ...   42100.000000  2005.000000\n",
              "75%            276.250000    44.000000  ...   50822.500000  2010.000000\n",
              "max            479.000000    64.000000  ...   79560.000000  2015.000000\n",
              "\n",
              "[8 rows x 18 columns]"
            ]
          },
          "metadata": {},
          "execution_count": 7
        }
      ]
    },
    {
      "cell_type": "markdown",
      "metadata": {
        "id": "aobFtRgdLEFo"
      },
      "source": [
        "'?' in the datsetis replaced by NaN Values->checking for null values in the dataset."
      ]
    },
    {
      "cell_type": "code",
      "metadata": {
        "colab": {
          "base_uri": "https://localhost:8080/"
        },
        "id": "OcgXs40Ilj_I",
        "outputId": "6fd5a9f6-ec01-454f-ff49-cf520df3dd7b"
      },
      "source": [
        "df_data = df_data.replace('?',np.NaN)\n",
        "df_data.isnull().any()"
      ],
      "execution_count": 8,
      "outputs": [
        {
          "output_type": "execute_result",
          "data": {
            "text/plain": [
              "months_as_customer             False\n",
              "age                            False\n",
              "policy_number                  False\n",
              "policy_bind_date               False\n",
              "policy_state                   False\n",
              "policy_csl                     False\n",
              "policy_deductable              False\n",
              "policy_annual_premium          False\n",
              "umbrella_limit                 False\n",
              "insured_zip                    False\n",
              "insured_sex                    False\n",
              "insured_education_level        False\n",
              "insured_occupation             False\n",
              "insured_hobbies                False\n",
              "insured_relationship           False\n",
              "capital-gains                  False\n",
              "capital-loss                   False\n",
              "incident_date                  False\n",
              "incident_type                  False\n",
              "collision_type                  True\n",
              "incident_severity              False\n",
              "authorities_contacted          False\n",
              "incident_state                 False\n",
              "incident_city                  False\n",
              "incident_location              False\n",
              "incident_hour_of_the_day       False\n",
              "number_of_vehicles_involved    False\n",
              "property_damage                 True\n",
              "bodily_injuries                False\n",
              "witnesses                      False\n",
              "police_report_available         True\n",
              "total_claim_amount             False\n",
              "injury_claim                   False\n",
              "property_claim                 False\n",
              "vehicle_claim                  False\n",
              "auto_make                      False\n",
              "auto_model                     False\n",
              "auto_year                      False\n",
              "fraud_reported                 False\n",
              "dtype: bool"
            ]
          },
          "metadata": {},
          "execution_count": 8
        }
      ]
    },
    {
      "cell_type": "markdown",
      "metadata": {
        "id": "5MnJUWBnLjK1"
      },
      "source": [
        "\n",
        "Replace the NaN by the most common collision type as we are unaware of the type -> replace no responses for property damage with No property damage -> replace no responses for police report available with No report available -> check for any remaining null values."
      ]
    },
    {
      "cell_type": "code",
      "metadata": {
        "colab": {
          "base_uri": "https://localhost:8080/"
        },
        "id": "6j5kkkqplkWf",
        "outputId": "cc4e2dfc-f74d-4860-f2f8-b5cc63915137"
      },
      "source": [
        "df_data['collision_type'].fillna(df_data['collision_type'].mode()[0], inplace = True)\n",
        "df_data['property_damage'].fillna('NO', inplace = True)\n",
        "df_data['police_report_available'].fillna('NO', inplace = True)\n",
        "df_data.isnull().any().any()"
      ],
      "execution_count": 9,
      "outputs": [
        {
          "output_type": "execute_result",
          "data": {
            "text/plain": [
              "False"
            ]
          },
          "metadata": {},
          "execution_count": 9
        }
      ]
    },
    {
      "cell_type": "markdown",
      "metadata": {
        "id": "IkU_qmm5Mfr7"
      },
      "source": [
        "Check number of unique values in each cell."
      ]
    },
    {
      "cell_type": "code",
      "metadata": {
        "colab": {
          "base_uri": "https://localhost:8080/"
        },
        "id": "sBPImr96XYi8",
        "outputId": "6ff1b228-9f9c-4b6e-a1a6-b06887f6eb5d"
      },
      "source": [
        "df_data.nunique()"
      ],
      "execution_count": 10,
      "outputs": [
        {
          "output_type": "execute_result",
          "data": {
            "text/plain": [
              "months_as_customer              391\n",
              "age                              46\n",
              "policy_number                  1000\n",
              "policy_bind_date                951\n",
              "policy_state                      3\n",
              "policy_csl                        3\n",
              "policy_deductable                 3\n",
              "policy_annual_premium           991\n",
              "umbrella_limit                   11\n",
              "insured_zip                     995\n",
              "insured_sex                       2\n",
              "insured_education_level           7\n",
              "insured_occupation               14\n",
              "insured_hobbies                  20\n",
              "insured_relationship              6\n",
              "capital-gains                   338\n",
              "capital-loss                    354\n",
              "incident_date                    60\n",
              "incident_type                     4\n",
              "collision_type                    3\n",
              "incident_severity                 4\n",
              "authorities_contacted             5\n",
              "incident_state                    7\n",
              "incident_city                     7\n",
              "incident_location              1000\n",
              "incident_hour_of_the_day         24\n",
              "number_of_vehicles_involved       4\n",
              "property_damage                   2\n",
              "bodily_injuries                   3\n",
              "witnesses                         4\n",
              "police_report_available           2\n",
              "total_claim_amount              763\n",
              "injury_claim                    638\n",
              "property_claim                  626\n",
              "vehicle_claim                   726\n",
              "auto_make                        14\n",
              "auto_model                       39\n",
              "auto_year                        21\n",
              "fraud_reported                    2\n",
              "dtype: int64"
            ]
          },
          "metadata": {},
          "execution_count": 10
        }
      ]
    },
    {
      "cell_type": "markdown",
      "metadata": {
        "id": "Oz-fqsbLMqV9"
      },
      "source": [
        "Check for multicollinearity."
      ]
    },
    {
      "cell_type": "code",
      "metadata": {
        "colab": {
          "base_uri": "https://localhost:8080/",
          "height": 837
        },
        "id": "Di6BtLUVYDws",
        "outputId": "0fbd5d58-2b0d-4c58-8eeb-9520b9783331"
      },
      "source": [
        "plt.figure(figsize = (18, 12))\n",
        "corr = df_data.corr()\n",
        "mask = np.triu(np.ones_like(corr, dtype = bool))\n",
        "sns.heatmap(data = corr, mask = mask, annot = True, fmt = '.2g', linewidth = 1)\n",
        "plt.show()"
      ],
      "execution_count": 11,
      "outputs": [
        {
          "output_type": "display_data",
          "data": {
            "image/png": "[encoded data removed]",
            "text/plain": [
              "<Figure size 1296x864 with 2 Axes>"
            ]
          },
          "metadata": {
            "needs_background": "light"
          }
        }
      ]
    },
    {
      "cell_type": "markdown",
      "metadata": {
        "id": "00wBPB8mMzk_"
      },
      "source": [
        "From the above plot, we can see that there is high correlation between age and months_as_customer.We will drop the \"Age\" column.Also there is high correlation between total_clam_amount, injury_claim,property_claim, vehicle_claim as total claim is the sum of all others. \n",
        "So we will drop the \"total_claim\" column."
      ]
    },
    {
      "cell_type": "code",
      "metadata": {
        "id": "vOV4aJzdYoh0"
      },
      "source": [
        "df_data.drop(columns = ['age', 'total_claim_amount'], inplace = True, axis = 1)"
      ],
      "execution_count": 12,
      "outputs": []
    },
    {
      "cell_type": "markdown",
      "metadata": {
        "id": "11E8z92YNpnX"
      },
      "source": [
        "Check data types of each cells."
      ]
    },
    {
      "cell_type": "code",
      "metadata": {
        "colab": {
          "base_uri": "https://localhost:8080/"
        },
        "id": "tI3khrBTd8IG",
        "outputId": "5ca84ec8-6438-414a-caa1-47b0a997e07a"
      },
      "source": [
        "df_data.info()"
      ],
      "execution_count": 13,
      "outputs": [
        {
          "output_type": "stream",
          "name": "stdout",
          "text": [
            "<class 'pandas.core.frame.DataFrame'>\n",
            "RangeIndex: 1000 entries, 0 to 999\n",
            "Data columns (total 37 columns):\n",
            " #   Column                       Non-Null Count  Dtype  \n",
            "---  ------                       --------------  -----  \n",
            " 0   months_as_customer           1000 non-null   int64  \n",
            " 1   policy_number                1000 non-null   int64  \n",
            " 2   policy_bind_date             1000 non-null   object \n",
            " 3   policy_state                 1000 non-null   object \n",
            " 4   policy_csl                   1000 non-null   object \n",
            " 5   policy_deductable            1000 non-null   int64  \n",
            " 6   policy_annual_premium        1000 non-null   float64\n",
            " 7   umbrella_limit               1000 non-null   int64  \n",
            " 8   insured_zip                  1000 non-null   int64  \n",
            " 9   insured_sex                  1000 non-null   object \n",
            " 10  insured_education_level      1000 non-null   object \n",
            " 11  insured_occupation           1000 non-null   object \n",
            " 12  insured_hobbies              1000 non-null   object \n",
            " 13  insured_relationship         1000 non-null   object \n",
            " 14  capital-gains                1000 non-null   int64  \n",
            " 15  capital-loss                 1000 non-null   int64  \n",
            " 16  incident_date                1000 non-null   object \n",
            " 17  incident_type                1000 non-null   object \n",
            " 18  collision_type               1000 non-null   object \n",
            " 19  incident_severity            1000 non-null   object \n",
            " 20  authorities_contacted        1000 non-null   object \n",
            " 21  incident_state               1000 non-null   object \n",
            " 22  incident_city                1000 non-null   object \n",
            " 23  incident_location            1000 non-null   object \n",
            " 24  incident_hour_of_the_day     1000 non-null   int64  \n",
            " 25  number_of_vehicles_involved  1000 non-null   int64  \n",
            " 26  property_damage              1000 non-null   object \n",
            " 27  bodily_injuries              1000 non-null   int64  \n",
            " 28  witnesses                    1000 non-null   int64  \n",
            " 29  police_report_available      1000 non-null   object \n",
            " 30  injury_claim                 1000 non-null   int64  \n",
            " 31  property_claim               1000 non-null   int64  \n",
            " 32  vehicle_claim                1000 non-null   int64  \n",
            " 33  auto_make                    1000 non-null   object \n",
            " 34  auto_model                   1000 non-null   object \n",
            " 35  auto_year                    1000 non-null   int64  \n",
            " 36  fraud_reported               1000 non-null   object \n",
            "dtypes: float64(1), int64(15), object(21)\n",
            "memory usage: 289.2+ KB\n"
          ]
        }
      ]
    },
    {
      "cell_type": "markdown",
      "metadata": {
        "id": "GCvy6ewON4_O"
      },
      "source": [
        "Check correlation of various columns with target -> encode them into numerical values."
      ]
    },
    {
      "cell_type": "code",
      "metadata": {
        "id": "kfO65rWVxoq6"
      },
      "source": [
        "df_data['policy_bind_date'] = pd.to_datetime(df_data['policy_bind_date'], errors = 'coerce')\n",
        "df_data['fraud_reported'] = df_data['fraud_reported'].replace(('Y','N'),(0,1))\n",
        "#df_data['fraud_reported'].value_counts()"
      ],
      "execution_count": 14,
      "outputs": []
    },
    {
      "cell_type": "code",
      "metadata": {
        "colab": {
          "base_uri": "https://localhost:8080/",
          "height": 480
        },
        "id": "Nev8--4Zy49_",
        "outputId": "16a1f7f6-08dc-4966-882d-90d2fc297b77"
      },
      "source": [
        "df_data[['auto_make','fraud_reported']].groupby(['auto_make'], \n",
        "                as_index = False).mean().sort_values(by = 'fraud_reported', ascending = False)"
      ],
      "execution_count": 15,
      "outputs": [
        {
          "output_type": "execute_result",
          "data": {
            "text/html": [
              "<div>\n",
              "<style scoped>\n",
              "    .dataframe tbody tr th:only-of-type {\n",
              "        vertical-align: middle;\n",
              "    }\n",
              "\n",
              "    .dataframe tbody tr th {\n",
              "        vertical-align: top;\n",
              "    }\n",
              "\n",
              "    .dataframe thead th {\n",
              "        text-align: right;\n",
              "    }\n",
              "</style>\n",
              "<table border=\"1\" class=\"dataframe\">\n",
              "  <thead>\n",
              "    <tr style=\"text-align: right;\">\n",
              "      <th></th>\n",
              "      <th>auto_make</th>\n",
              "      <th>fraud_reported</th>\n",
              "    </tr>\n",
              "  </thead>\n",
              "  <tbody>\n",
              "    <tr>\n",
              "      <th>7</th>\n",
              "      <td>Jeep</td>\n",
              "      <td>0.835821</td>\n",
              "    </tr>\n",
              "    <tr>\n",
              "      <th>9</th>\n",
              "      <td>Nissan</td>\n",
              "      <td>0.820513</td>\n",
              "    </tr>\n",
              "    <tr>\n",
              "      <th>12</th>\n",
              "      <td>Toyota</td>\n",
              "      <td>0.814286</td>\n",
              "    </tr>\n",
              "    <tr>\n",
              "      <th>0</th>\n",
              "      <td>Accura</td>\n",
              "      <td>0.808824</td>\n",
              "    </tr>\n",
              "    <tr>\n",
              "      <th>10</th>\n",
              "      <td>Saab</td>\n",
              "      <td>0.775000</td>\n",
              "    </tr>\n",
              "    <tr>\n",
              "      <th>11</th>\n",
              "      <td>Suburu</td>\n",
              "      <td>0.762500</td>\n",
              "    </tr>\n",
              "    <tr>\n",
              "      <th>4</th>\n",
              "      <td>Dodge</td>\n",
              "      <td>0.750000</td>\n",
              "    </tr>\n",
              "    <tr>\n",
              "      <th>6</th>\n",
              "      <td>Honda</td>\n",
              "      <td>0.745455</td>\n",
              "    </tr>\n",
              "    <tr>\n",
              "      <th>3</th>\n",
              "      <td>Chevrolet</td>\n",
              "      <td>0.723684</td>\n",
              "    </tr>\n",
              "    <tr>\n",
              "      <th>2</th>\n",
              "      <td>BMW</td>\n",
              "      <td>0.722222</td>\n",
              "    </tr>\n",
              "    <tr>\n",
              "      <th>13</th>\n",
              "      <td>Volkswagen</td>\n",
              "      <td>0.720588</td>\n",
              "    </tr>\n",
              "    <tr>\n",
              "      <th>1</th>\n",
              "      <td>Audi</td>\n",
              "      <td>0.695652</td>\n",
              "    </tr>\n",
              "    <tr>\n",
              "      <th>5</th>\n",
              "      <td>Ford</td>\n",
              "      <td>0.694444</td>\n",
              "    </tr>\n",
              "    <tr>\n",
              "      <th>8</th>\n",
              "      <td>Mercedes</td>\n",
              "      <td>0.661538</td>\n",
              "    </tr>\n",
              "  </tbody>\n",
              "</table>\n",
              "</div>"
            ],
            "text/plain": [
              "     auto_make  fraud_reported\n",
              "7         Jeep        0.835821\n",
              "9       Nissan        0.820513\n",
              "12      Toyota        0.814286\n",
              "0       Accura        0.808824\n",
              "10        Saab        0.775000\n",
              "11      Suburu        0.762500\n",
              "4        Dodge        0.750000\n",
              "6        Honda        0.745455\n",
              "3    Chevrolet        0.723684\n",
              "2          BMW        0.722222\n",
              "13  Volkswagen        0.720588\n",
              "1         Audi        0.695652\n",
              "5         Ford        0.694444\n",
              "8     Mercedes        0.661538"
            ]
          },
          "metadata": {},
          "execution_count": 15
        }
      ]
    },
    {
      "cell_type": "code",
      "metadata": {
        "id": "IVaKPkKGzSmF"
      },
      "source": [
        "df_data['auto_make'] = df_data['auto_make'].replace(('Jeep','Nissan','Toyota','Accura','Saab','Suburu',\n",
        "                                'Dodge','Honda','Chevrolet','BMW','Volkswagen','Audi','Ford','Mercedes'),\n",
        "                                              (0.84,0.82,0.81,0.80,0.77,0.76,0.75,0.74,0.73,0.72,0.71,0.69,0.69,0.66))\n",
        "\n",
        "#df_data['auto_make'].value_counts()"
      ],
      "execution_count": 16,
      "outputs": []
    },
    {
      "cell_type": "code",
      "metadata": {
        "colab": {
          "base_uri": "https://localhost:8080/",
          "height": 110
        },
        "id": "9fMs8NHmdURy",
        "outputId": "afef74ff-6233-43f8-8361-d34c7ce6ada3"
      },
      "source": [
        "df_data[['police_report_available','fraud_reported']].groupby(['police_report_available'], \n",
        "                as_index = False).mean().sort_values(by = 'fraud_reported', ascending = False)"
      ],
      "execution_count": 17,
      "outputs": [
        {
          "output_type": "execute_result",
          "data": {
            "text/html": [
              "<div>\n",
              "<style scoped>\n",
              "    .dataframe tbody tr th:only-of-type {\n",
              "        vertical-align: middle;\n",
              "    }\n",
              "\n",
              "    .dataframe tbody tr th {\n",
              "        vertical-align: top;\n",
              "    }\n",
              "\n",
              "    .dataframe thead th {\n",
              "        text-align: right;\n",
              "    }\n",
              "</style>\n",
              "<table border=\"1\" class=\"dataframe\">\n",
              "  <thead>\n",
              "    <tr style=\"text-align: right;\">\n",
              "      <th></th>\n",
              "      <th>police_report_available</th>\n",
              "      <th>fraud_reported</th>\n",
              "    </tr>\n",
              "  </thead>\n",
              "  <tbody>\n",
              "    <tr>\n",
              "      <th>1</th>\n",
              "      <td>YES</td>\n",
              "      <td>0.770701</td>\n",
              "    </tr>\n",
              "    <tr>\n",
              "      <th>0</th>\n",
              "      <td>NO</td>\n",
              "      <td>0.744898</td>\n",
              "    </tr>\n",
              "  </tbody>\n",
              "</table>\n",
              "</div>"
            ],
            "text/plain": [
              "  police_report_available  fraud_reported\n",
              "1                     YES        0.770701\n",
              "0                      NO        0.744898"
            ]
          },
          "metadata": {},
          "execution_count": 17
        }
      ]
    },
    {
      "cell_type": "code",
      "metadata": {
        "id": "gnE6-gHtdhMC"
      },
      "source": [
        "df_data['police_report_available'] = df_data['police_report_available'].replace(('NO','YES'),(0.77,0.74))\n",
        "#df_data['police_report_available'].value_counts()"
      ],
      "execution_count": 18,
      "outputs": []
    },
    {
      "cell_type": "code",
      "metadata": {
        "colab": {
          "base_uri": "https://localhost:8080/",
          "height": 110
        },
        "id": "hBNoMuczeDam",
        "outputId": "f6b7f62c-2de8-4039-af74-663011c8657d"
      },
      "source": [
        "df_data[['property_damage','fraud_reported']].groupby(['property_damage'], \n",
        "                as_index = False).mean().sort_values(by = 'fraud_reported', ascending = False)"
      ],
      "execution_count": 19,
      "outputs": [
        {
          "output_type": "execute_result",
          "data": {
            "text/html": [
              "<div>\n",
              "<style scoped>\n",
              "    .dataframe tbody tr th:only-of-type {\n",
              "        vertical-align: middle;\n",
              "    }\n",
              "\n",
              "    .dataframe tbody tr th {\n",
              "        vertical-align: top;\n",
              "    }\n",
              "\n",
              "    .dataframe thead th {\n",
              "        text-align: right;\n",
              "    }\n",
              "</style>\n",
              "<table border=\"1\" class=\"dataframe\">\n",
              "  <thead>\n",
              "    <tr style=\"text-align: right;\">\n",
              "      <th></th>\n",
              "      <th>property_damage</th>\n",
              "      <th>fraud_reported</th>\n",
              "    </tr>\n",
              "  </thead>\n",
              "  <tbody>\n",
              "    <tr>\n",
              "      <th>0</th>\n",
              "      <td>NO</td>\n",
              "      <td>0.757880</td>\n",
              "    </tr>\n",
              "    <tr>\n",
              "      <th>1</th>\n",
              "      <td>YES</td>\n",
              "      <td>0.741722</td>\n",
              "    </tr>\n",
              "  </tbody>\n",
              "</table>\n",
              "</div>"
            ],
            "text/plain": [
              "  property_damage  fraud_reported\n",
              "0              NO        0.757880\n",
              "1             YES        0.741722"
            ]
          },
          "metadata": {},
          "execution_count": 19
        }
      ]
    },
    {
      "cell_type": "code",
      "metadata": {
        "id": "P9kJF-4seKlG"
      },
      "source": [
        "df_data['property_damage'] = df_data['property_damage'].replace(('NO','YES'),(0.76,0.74))\n",
        "#df_data['property_damage'].value_counts()"
      ],
      "execution_count": 20,
      "outputs": []
    },
    {
      "cell_type": "code",
      "metadata": {
        "colab": {
          "base_uri": "https://localhost:8080/",
          "height": 203
        },
        "id": "cDG64kCUeS7q",
        "outputId": "a58f6b9b-8c5f-4c40-a9d1-abee47d1623c"
      },
      "source": [
        "df_data[['authorities_contacted','fraud_reported']].groupby(['authorities_contacted'], \n",
        "                as_index = False).mean().sort_values(by = 'fraud_reported', ascending = False)"
      ],
      "execution_count": 21,
      "outputs": [
        {
          "output_type": "execute_result",
          "data": {
            "text/html": [
              "<div>\n",
              "<style scoped>\n",
              "    .dataframe tbody tr th:only-of-type {\n",
              "        vertical-align: middle;\n",
              "    }\n",
              "\n",
              "    .dataframe tbody tr th {\n",
              "        vertical-align: top;\n",
              "    }\n",
              "\n",
              "    .dataframe thead th {\n",
              "        text-align: right;\n",
              "    }\n",
              "</style>\n",
              "<table border=\"1\" class=\"dataframe\">\n",
              "  <thead>\n",
              "    <tr style=\"text-align: right;\">\n",
              "      <th></th>\n",
              "      <th>authorities_contacted</th>\n",
              "      <th>fraud_reported</th>\n",
              "    </tr>\n",
              "  </thead>\n",
              "  <tbody>\n",
              "    <tr>\n",
              "      <th>2</th>\n",
              "      <td>None</td>\n",
              "      <td>0.934066</td>\n",
              "    </tr>\n",
              "    <tr>\n",
              "      <th>4</th>\n",
              "      <td>Police</td>\n",
              "      <td>0.791096</td>\n",
              "    </tr>\n",
              "    <tr>\n",
              "      <th>1</th>\n",
              "      <td>Fire</td>\n",
              "      <td>0.730942</td>\n",
              "    </tr>\n",
              "    <tr>\n",
              "      <th>0</th>\n",
              "      <td>Ambulance</td>\n",
              "      <td>0.709184</td>\n",
              "    </tr>\n",
              "    <tr>\n",
              "      <th>3</th>\n",
              "      <td>Other</td>\n",
              "      <td>0.681818</td>\n",
              "    </tr>\n",
              "  </tbody>\n",
              "</table>\n",
              "</div>"
            ],
            "text/plain": [
              "  authorities_contacted  fraud_reported\n",
              "2                  None        0.934066\n",
              "4                Police        0.791096\n",
              "1                  Fire        0.730942\n",
              "0             Ambulance        0.709184\n",
              "3                 Other        0.681818"
            ]
          },
          "metadata": {},
          "execution_count": 21
        }
      ]
    },
    {
      "cell_type": "code",
      "metadata": {
        "id": "0EFY0GgPeqQt"
      },
      "source": [
        "df_data['authorities_contacted'] = df_data['authorities_contacted'].replace(('None','Police','Fire','Ambulance','Other'),\n",
        "                                                                      (0.94,0.79,0.73,0.70,0.68))\n",
        "#df_data['authorities_contacted'].value_counts()"
      ],
      "execution_count": 22,
      "outputs": []
    },
    {
      "cell_type": "code",
      "metadata": {
        "colab": {
          "base_uri": "https://localhost:8080/",
          "height": 265
        },
        "id": "Yw-GG7Bk0ID3",
        "outputId": "8eb69a12-756a-4a50-8716-f0136dc2c44d"
      },
      "source": [
        "df_data[['incident_city','fraud_reported']].groupby(['incident_city'], \n",
        "                as_index = False).mean().sort_values(by = 'fraud_reported', ascending = False)"
      ],
      "execution_count": 23,
      "outputs": [
        {
          "output_type": "execute_result",
          "data": {
            "text/html": [
              "<div>\n",
              "<style scoped>\n",
              "    .dataframe tbody tr th:only-of-type {\n",
              "        vertical-align: middle;\n",
              "    }\n",
              "\n",
              "    .dataframe tbody tr th {\n",
              "        vertical-align: top;\n",
              "    }\n",
              "\n",
              "    .dataframe thead th {\n",
              "        text-align: right;\n",
              "    }\n",
              "</style>\n",
              "<table border=\"1\" class=\"dataframe\">\n",
              "  <thead>\n",
              "    <tr style=\"text-align: right;\">\n",
              "      <th></th>\n",
              "      <th>incident_city</th>\n",
              "      <th>fraud_reported</th>\n",
              "    </tr>\n",
              "  </thead>\n",
              "  <tbody>\n",
              "    <tr>\n",
              "      <th>4</th>\n",
              "      <td>Northbrook</td>\n",
              "      <td>0.778689</td>\n",
              "    </tr>\n",
              "    <tr>\n",
              "      <th>5</th>\n",
              "      <td>Riverwood</td>\n",
              "      <td>0.776119</td>\n",
              "    </tr>\n",
              "    <tr>\n",
              "      <th>3</th>\n",
              "      <td>Northbend</td>\n",
              "      <td>0.765517</td>\n",
              "    </tr>\n",
              "    <tr>\n",
              "      <th>6</th>\n",
              "      <td>Springfield</td>\n",
              "      <td>0.757962</td>\n",
              "    </tr>\n",
              "    <tr>\n",
              "      <th>2</th>\n",
              "      <td>Hillsdale</td>\n",
              "      <td>0.751773</td>\n",
              "    </tr>\n",
              "    <tr>\n",
              "      <th>1</th>\n",
              "      <td>Columbus</td>\n",
              "      <td>0.738255</td>\n",
              "    </tr>\n",
              "    <tr>\n",
              "      <th>0</th>\n",
              "      <td>Arlington</td>\n",
              "      <td>0.710526</td>\n",
              "    </tr>\n",
              "  </tbody>\n",
              "</table>\n",
              "</div>"
            ],
            "text/plain": [
              "  incident_city  fraud_reported\n",
              "4    Northbrook        0.778689\n",
              "5     Riverwood        0.776119\n",
              "3     Northbend        0.765517\n",
              "6   Springfield        0.757962\n",
              "2     Hillsdale        0.751773\n",
              "1      Columbus        0.738255\n",
              "0     Arlington        0.710526"
            ]
          },
          "metadata": {},
          "execution_count": 23
        }
      ]
    },
    {
      "cell_type": "code",
      "metadata": {
        "id": "_ZdO7v2O0Nwa"
      },
      "source": [
        "df_data['incident_city'] = df_data['incident_city'].replace(('Northbrook','Riverwood','Northbend','Springfield',\n",
        "                                    'Hillsdale','Columbus','Arlington'),(0.78,0.77,0.76,0.75,0.74,0.73,0.71))\n",
        "#df_data['incident_city'].value_counts()"
      ],
      "execution_count": 24,
      "outputs": []
    },
    {
      "cell_type": "code",
      "metadata": {
        "colab": {
          "base_uri": "https://localhost:8080/",
          "height": 265
        },
        "id": "0Z2oU0Mo0XTc",
        "outputId": "884882b4-64f3-41da-d048-7f42e12c066a"
      },
      "source": [
        "df_data[['incident_state','fraud_reported']].groupby(['incident_state'], \n",
        "                as_index = False).mean().sort_values(by = 'fraud_reported', ascending = False)"
      ],
      "execution_count": 25,
      "outputs": [
        {
          "output_type": "execute_result",
          "data": {
            "text/html": [
              "<div>\n",
              "<style scoped>\n",
              "    .dataframe tbody tr th:only-of-type {\n",
              "        vertical-align: middle;\n",
              "    }\n",
              "\n",
              "    .dataframe tbody tr th {\n",
              "        vertical-align: top;\n",
              "    }\n",
              "\n",
              "    .dataframe thead th {\n",
              "        text-align: right;\n",
              "    }\n",
              "</style>\n",
              "<table border=\"1\" class=\"dataframe\">\n",
              "  <thead>\n",
              "    <tr style=\"text-align: right;\">\n",
              "      <th></th>\n",
              "      <th>incident_state</th>\n",
              "      <th>fraud_reported</th>\n",
              "    </tr>\n",
              "  </thead>\n",
              "  <tbody>\n",
              "    <tr>\n",
              "      <th>6</th>\n",
              "      <td>WV</td>\n",
              "      <td>0.820276</td>\n",
              "    </tr>\n",
              "    <tr>\n",
              "      <th>1</th>\n",
              "      <td>NY</td>\n",
              "      <td>0.778626</td>\n",
              "    </tr>\n",
              "    <tr>\n",
              "      <th>5</th>\n",
              "      <td>VA</td>\n",
              "      <td>0.772727</td>\n",
              "    </tr>\n",
              "    <tr>\n",
              "      <th>3</th>\n",
              "      <td>PA</td>\n",
              "      <td>0.733333</td>\n",
              "    </tr>\n",
              "    <tr>\n",
              "      <th>4</th>\n",
              "      <td>SC</td>\n",
              "      <td>0.705645</td>\n",
              "    </tr>\n",
              "    <tr>\n",
              "      <th>0</th>\n",
              "      <td>NC</td>\n",
              "      <td>0.690909</td>\n",
              "    </tr>\n",
              "    <tr>\n",
              "      <th>2</th>\n",
              "      <td>OH</td>\n",
              "      <td>0.565217</td>\n",
              "    </tr>\n",
              "  </tbody>\n",
              "</table>\n",
              "</div>"
            ],
            "text/plain": [
              "  incident_state  fraud_reported\n",
              "6             WV        0.820276\n",
              "1             NY        0.778626\n",
              "5             VA        0.772727\n",
              "3             PA        0.733333\n",
              "4             SC        0.705645\n",
              "0             NC        0.690909\n",
              "2             OH        0.565217"
            ]
          },
          "metadata": {},
          "execution_count": 25
        }
      ]
    },
    {
      "cell_type": "code",
      "metadata": {
        "id": "Jfdf7Rbu0cqL"
      },
      "source": [
        "df_data['incident_state'] = df_data['incident_state'].replace(('WV','NY','VA','PA','SC','NC','OH'),\n",
        "                                                        (0.82,0.77,0.76,0.73,0.70,0.69,0.56))\n",
        "#df_data['incident_state'].value_counts()"
      ],
      "execution_count": 26,
      "outputs": []
    },
    {
      "cell_type": "code",
      "metadata": {
        "colab": {
          "base_uri": "https://localhost:8080/",
          "height": 172
        },
        "id": "J9ll53Nggh2L",
        "outputId": "a1c0e63a-21fe-467b-9319-38b7e7fd01ea"
      },
      "source": [
        "df_data[['incident_severity','fraud_reported']].groupby(['incident_severity'], \n",
        "                as_index = False).mean().sort_values(by = 'fraud_reported', ascending = False)"
      ],
      "execution_count": 27,
      "outputs": [
        {
          "output_type": "execute_result",
          "data": {
            "text/html": [
              "<div>\n",
              "<style scoped>\n",
              "    .dataframe tbody tr th:only-of-type {\n",
              "        vertical-align: middle;\n",
              "    }\n",
              "\n",
              "    .dataframe tbody tr th {\n",
              "        vertical-align: top;\n",
              "    }\n",
              "\n",
              "    .dataframe thead th {\n",
              "        text-align: right;\n",
              "    }\n",
              "</style>\n",
              "<table border=\"1\" class=\"dataframe\">\n",
              "  <thead>\n",
              "    <tr style=\"text-align: right;\">\n",
              "      <th></th>\n",
              "      <th>incident_severity</th>\n",
              "      <th>fraud_reported</th>\n",
              "    </tr>\n",
              "  </thead>\n",
              "  <tbody>\n",
              "    <tr>\n",
              "      <th>3</th>\n",
              "      <td>Trivial Damage</td>\n",
              "      <td>0.933333</td>\n",
              "    </tr>\n",
              "    <tr>\n",
              "      <th>1</th>\n",
              "      <td>Minor Damage</td>\n",
              "      <td>0.892655</td>\n",
              "    </tr>\n",
              "    <tr>\n",
              "      <th>2</th>\n",
              "      <td>Total Loss</td>\n",
              "      <td>0.871429</td>\n",
              "    </tr>\n",
              "    <tr>\n",
              "      <th>0</th>\n",
              "      <td>Major Damage</td>\n",
              "      <td>0.394928</td>\n",
              "    </tr>\n",
              "  </tbody>\n",
              "</table>\n",
              "</div>"
            ],
            "text/plain": [
              "  incident_severity  fraud_reported\n",
              "3    Trivial Damage        0.933333\n",
              "1      Minor Damage        0.892655\n",
              "2        Total Loss        0.871429\n",
              "0      Major Damage        0.394928"
            ]
          },
          "metadata": {},
          "execution_count": 27
        }
      ]
    },
    {
      "cell_type": "code",
      "metadata": {
        "id": "VBFvbfYkgoZX"
      },
      "source": [
        "df_data['incident_severity'] = df_data['incident_severity'].replace(('Trivial Damage','Minor Damage','Total Loss',\n",
        "                                                              'Major Damage'),(0.94,0.89,0.87,0.39))\n",
        "#df_data['incident_severity'].value_counts()"
      ],
      "execution_count": 28,
      "outputs": []
    },
    {
      "cell_type": "code",
      "metadata": {
        "colab": {
          "base_uri": "https://localhost:8080/",
          "height": 142
        },
        "id": "0DLBkvzGgu2w",
        "outputId": "e64f4d92-17fc-48cc-b244-1b54da4dd4a3"
      },
      "source": [
        "df_data[['collision_type','fraud_reported']].groupby(['collision_type'], \n",
        "                as_index = False).mean().sort_values(by = 'fraud_reported', ascending = False)"
      ],
      "execution_count": 29,
      "outputs": [
        {
          "output_type": "execute_result",
          "data": {
            "text/html": [
              "<div>\n",
              "<style scoped>\n",
              "    .dataframe tbody tr th:only-of-type {\n",
              "        vertical-align: middle;\n",
              "    }\n",
              "\n",
              "    .dataframe tbody tr th {\n",
              "        vertical-align: top;\n",
              "    }\n",
              "\n",
              "    .dataframe thead th {\n",
              "        text-align: right;\n",
              "    }\n",
              "</style>\n",
              "<table border=\"1\" class=\"dataframe\">\n",
              "  <thead>\n",
              "    <tr style=\"text-align: right;\">\n",
              "      <th></th>\n",
              "      <th>collision_type</th>\n",
              "      <th>fraud_reported</th>\n",
              "    </tr>\n",
              "  </thead>\n",
              "  <tbody>\n",
              "    <tr>\n",
              "      <th>1</th>\n",
              "      <td>Rear Collision</td>\n",
              "      <td>0.772340</td>\n",
              "    </tr>\n",
              "    <tr>\n",
              "      <th>2</th>\n",
              "      <td>Side Collision</td>\n",
              "      <td>0.746377</td>\n",
              "    </tr>\n",
              "    <tr>\n",
              "      <th>0</th>\n",
              "      <td>Front Collision</td>\n",
              "      <td>0.724409</td>\n",
              "    </tr>\n",
              "  </tbody>\n",
              "</table>\n",
              "</div>"
            ],
            "text/plain": [
              "    collision_type  fraud_reported\n",
              "1   Rear Collision        0.772340\n",
              "2   Side Collision        0.746377\n",
              "0  Front Collision        0.724409"
            ]
          },
          "metadata": {},
          "execution_count": 29
        }
      ]
    },
    {
      "cell_type": "code",
      "metadata": {
        "id": "3RJjHJNDg0Cp"
      },
      "source": [
        "df_data['collision_type'] = df_data['collision_type'].replace(('Rear Collision', 'Side Collision', 'Front Collision'),\n",
        "                                                        (0.78,0.74,0.72))\n",
        "#df_data['collision_type'].value_counts()"
      ],
      "execution_count": 30,
      "outputs": []
    },
    {
      "cell_type": "code",
      "metadata": {
        "colab": {
          "base_uri": "https://localhost:8080/",
          "height": 172
        },
        "id": "t6NzLI1_g8LN",
        "outputId": "c1aed3ac-c5c7-4eb5-f7dc-5b4ec6f84757"
      },
      "source": [
        "df_data[['incident_type','fraud_reported']].groupby(['incident_type'], \n",
        "                as_index = False).mean().sort_values(by = 'fraud_reported', ascending = False)"
      ],
      "execution_count": 31,
      "outputs": [
        {
          "output_type": "execute_result",
          "data": {
            "text/html": [
              "<div>\n",
              "<style scoped>\n",
              "    .dataframe tbody tr th:only-of-type {\n",
              "        vertical-align: middle;\n",
              "    }\n",
              "\n",
              "    .dataframe tbody tr th {\n",
              "        vertical-align: top;\n",
              "    }\n",
              "\n",
              "    .dataframe thead th {\n",
              "        text-align: right;\n",
              "    }\n",
              "</style>\n",
              "<table border=\"1\" class=\"dataframe\">\n",
              "  <thead>\n",
              "    <tr style=\"text-align: right;\">\n",
              "      <th></th>\n",
              "      <th>incident_type</th>\n",
              "      <th>fraud_reported</th>\n",
              "    </tr>\n",
              "  </thead>\n",
              "  <tbody>\n",
              "    <tr>\n",
              "      <th>3</th>\n",
              "      <td>Vehicle Theft</td>\n",
              "      <td>0.914894</td>\n",
              "    </tr>\n",
              "    <tr>\n",
              "      <th>1</th>\n",
              "      <td>Parked Car</td>\n",
              "      <td>0.904762</td>\n",
              "    </tr>\n",
              "    <tr>\n",
              "      <th>0</th>\n",
              "      <td>Multi-vehicle Collision</td>\n",
              "      <td>0.727924</td>\n",
              "    </tr>\n",
              "    <tr>\n",
              "      <th>2</th>\n",
              "      <td>Single Vehicle Collision</td>\n",
              "      <td>0.709677</td>\n",
              "    </tr>\n",
              "  </tbody>\n",
              "</table>\n",
              "</div>"
            ],
            "text/plain": [
              "              incident_type  fraud_reported\n",
              "3             Vehicle Theft        0.914894\n",
              "1                Parked Car        0.904762\n",
              "0   Multi-vehicle Collision        0.727924\n",
              "2  Single Vehicle Collision        0.709677"
            ]
          },
          "metadata": {},
          "execution_count": 31
        }
      ]
    },
    {
      "cell_type": "code",
      "metadata": {
        "id": "flJfIR2OhAHm"
      },
      "source": [
        "df_data['incident_type'] = df_data['incident_type'].replace(('Vehicle Theft','Parked Car','Multi-vehicle Collision',\n",
        "                                'Single Vehicle Collision'),(0.91, 0.90, 0.72,0.70))\n",
        "#df_data['incident_type'].value_counts()"
      ],
      "execution_count": 32,
      "outputs": []
    },
    {
      "cell_type": "code",
      "metadata": {
        "id": "P_9CdWS-hG7r",
        "colab": {
          "base_uri": "https://localhost:8080/",
          "height": 234
        },
        "outputId": "fe3498c1-ae2d-4eca-f248-2de713c2e848"
      },
      "source": [
        "df_data[['insured_relationship','fraud_reported']].groupby(['insured_relationship'], \n",
        "                as_index = False).mean().sort_values(by = 'fraud_reported', ascending = False)"
      ],
      "execution_count": 33,
      "outputs": [
        {
          "output_type": "execute_result",
          "data": {
            "text/html": [
              "<div>\n",
              "<style scoped>\n",
              "    .dataframe tbody tr th:only-of-type {\n",
              "        vertical-align: middle;\n",
              "    }\n",
              "\n",
              "    .dataframe tbody tr th {\n",
              "        vertical-align: top;\n",
              "    }\n",
              "\n",
              "    .dataframe thead th {\n",
              "        text-align: right;\n",
              "    }\n",
              "</style>\n",
              "<table border=\"1\" class=\"dataframe\">\n",
              "  <thead>\n",
              "    <tr style=\"text-align: right;\">\n",
              "      <th></th>\n",
              "      <th>insured_relationship</th>\n",
              "      <th>fraud_reported</th>\n",
              "    </tr>\n",
              "  </thead>\n",
              "  <tbody>\n",
              "    <tr>\n",
              "      <th>0</th>\n",
              "      <td>husband</td>\n",
              "      <td>0.794118</td>\n",
              "    </tr>\n",
              "    <tr>\n",
              "      <th>3</th>\n",
              "      <td>own-child</td>\n",
              "      <td>0.786885</td>\n",
              "    </tr>\n",
              "    <tr>\n",
              "      <th>4</th>\n",
              "      <td>unmarried</td>\n",
              "      <td>0.758865</td>\n",
              "    </tr>\n",
              "    <tr>\n",
              "      <th>1</th>\n",
              "      <td>not-in-family</td>\n",
              "      <td>0.741379</td>\n",
              "    </tr>\n",
              "    <tr>\n",
              "      <th>5</th>\n",
              "      <td>wife</td>\n",
              "      <td>0.729032</td>\n",
              "    </tr>\n",
              "    <tr>\n",
              "      <th>2</th>\n",
              "      <td>other-relative</td>\n",
              "      <td>0.706215</td>\n",
              "    </tr>\n",
              "  </tbody>\n",
              "</table>\n",
              "</div>"
            ],
            "text/plain": [
              "  insured_relationship  fraud_reported\n",
              "0              husband        0.794118\n",
              "3            own-child        0.786885\n",
              "4            unmarried        0.758865\n",
              "1        not-in-family        0.741379\n",
              "5                 wife        0.729032\n",
              "2       other-relative        0.706215"
            ]
          },
          "metadata": {},
          "execution_count": 33
        }
      ]
    },
    {
      "cell_type": "code",
      "metadata": {
        "id": "4PhXZn9-hO0W"
      },
      "source": [
        "df_data['insured_relationship'] = df_data['insured_relationship'].replace(('husband','own-child','unmarried',\n",
        "                                        'not-in-family','wife','other-relative'),(0.79,0.78,0.75,0.74,0.72,0.70))\n",
        "#df_data['insured-relationship'].value_counts()"
      ],
      "execution_count": 34,
      "outputs": []
    },
    {
      "cell_type": "code",
      "metadata": {
        "colab": {
          "base_uri": "https://localhost:8080/",
          "height": 665
        },
        "id": "65RrLEYl16AV",
        "outputId": "ec8f4803-eff4-4a18-d37e-0e2b8f26761b"
      },
      "source": [
        "df_data[['insured_hobbies','fraud_reported']].groupby(['insured_hobbies'], \n",
        "                as_index = False).mean().sort_values(by = 'fraud_reported', ascending = False)"
      ],
      "execution_count": 35,
      "outputs": [
        {
          "output_type": "execute_result",
          "data": {
            "text/html": [
              "<div>\n",
              "<style scoped>\n",
              "    .dataframe tbody tr th:only-of-type {\n",
              "        vertical-align: middle;\n",
              "    }\n",
              "\n",
              "    .dataframe tbody tr th {\n",
              "        vertical-align: top;\n",
              "    }\n",
              "\n",
              "    .dataframe thead th {\n",
              "        text-align: right;\n",
              "    }\n",
              "</style>\n",
              "<table border=\"1\" class=\"dataframe\">\n",
              "  <thead>\n",
              "    <tr style=\"text-align: right;\">\n",
              "      <th></th>\n",
              "      <th>insured_hobbies</th>\n",
              "      <th>fraud_reported</th>\n",
              "    </tr>\n",
              "  </thead>\n",
              "  <tbody>\n",
              "    <tr>\n",
              "      <th>4</th>\n",
              "      <td>camping</td>\n",
              "      <td>0.909091</td>\n",
              "    </tr>\n",
              "    <tr>\n",
              "      <th>11</th>\n",
              "      <td>kayaking</td>\n",
              "      <td>0.907407</td>\n",
              "    </tr>\n",
              "    <tr>\n",
              "      <th>9</th>\n",
              "      <td>golf</td>\n",
              "      <td>0.890909</td>\n",
              "    </tr>\n",
              "    <tr>\n",
              "      <th>7</th>\n",
              "      <td>dancing</td>\n",
              "      <td>0.883721</td>\n",
              "    </tr>\n",
              "    <tr>\n",
              "      <th>3</th>\n",
              "      <td>bungie-jumping</td>\n",
              "      <td>0.839286</td>\n",
              "    </tr>\n",
              "    <tr>\n",
              "      <th>12</th>\n",
              "      <td>movies</td>\n",
              "      <td>0.836364</td>\n",
              "    </tr>\n",
              "    <tr>\n",
              "      <th>1</th>\n",
              "      <td>basketball</td>\n",
              "      <td>0.823529</td>\n",
              "    </tr>\n",
              "    <tr>\n",
              "      <th>8</th>\n",
              "      <td>exercise</td>\n",
              "      <td>0.807018</td>\n",
              "    </tr>\n",
              "    <tr>\n",
              "      <th>17</th>\n",
              "      <td>sleeping</td>\n",
              "      <td>0.804878</td>\n",
              "    </tr>\n",
              "    <tr>\n",
              "      <th>18</th>\n",
              "      <td>video-games</td>\n",
              "      <td>0.800000</td>\n",
              "    </tr>\n",
              "    <tr>\n",
              "      <th>16</th>\n",
              "      <td>skydiving</td>\n",
              "      <td>0.775510</td>\n",
              "    </tr>\n",
              "    <tr>\n",
              "      <th>13</th>\n",
              "      <td>paintball</td>\n",
              "      <td>0.771930</td>\n",
              "    </tr>\n",
              "    <tr>\n",
              "      <th>10</th>\n",
              "      <td>hiking</td>\n",
              "      <td>0.769231</td>\n",
              "    </tr>\n",
              "    <tr>\n",
              "      <th>0</th>\n",
              "      <td>base-jumping</td>\n",
              "      <td>0.734694</td>\n",
              "    </tr>\n",
              "    <tr>\n",
              "      <th>15</th>\n",
              "      <td>reading</td>\n",
              "      <td>0.734375</td>\n",
              "    </tr>\n",
              "    <tr>\n",
              "      <th>14</th>\n",
              "      <td>polo</td>\n",
              "      <td>0.723404</td>\n",
              "    </tr>\n",
              "    <tr>\n",
              "      <th>2</th>\n",
              "      <td>board-games</td>\n",
              "      <td>0.708333</td>\n",
              "    </tr>\n",
              "    <tr>\n",
              "      <th>19</th>\n",
              "      <td>yachting</td>\n",
              "      <td>0.698113</td>\n",
              "    </tr>\n",
              "    <tr>\n",
              "      <th>6</th>\n",
              "      <td>cross-fit</td>\n",
              "      <td>0.257143</td>\n",
              "    </tr>\n",
              "    <tr>\n",
              "      <th>5</th>\n",
              "      <td>chess</td>\n",
              "      <td>0.173913</td>\n",
              "    </tr>\n",
              "  </tbody>\n",
              "</table>\n",
              "</div>"
            ],
            "text/plain": [
              "   insured_hobbies  fraud_reported\n",
              "4          camping        0.909091\n",
              "11        kayaking        0.907407\n",
              "9             golf        0.890909\n",
              "7          dancing        0.883721\n",
              "3   bungie-jumping        0.839286\n",
              "12          movies        0.836364\n",
              "1       basketball        0.823529\n",
              "8         exercise        0.807018\n",
              "17        sleeping        0.804878\n",
              "18     video-games        0.800000\n",
              "16       skydiving        0.775510\n",
              "13       paintball        0.771930\n",
              "10          hiking        0.769231\n",
              "0     base-jumping        0.734694\n",
              "15         reading        0.734375\n",
              "14            polo        0.723404\n",
              "2      board-games        0.708333\n",
              "19        yachting        0.698113\n",
              "6        cross-fit        0.257143\n",
              "5            chess        0.173913"
            ]
          },
          "metadata": {},
          "execution_count": 35
        }
      ]
    },
    {
      "cell_type": "code",
      "metadata": {
        "id": "6RzX6Y4H2Afu"
      },
      "source": [
        "df_data['insured_hobbies'] = df_data['insured_hobbies'].replace(('camping', 'kayaking', 'golf','dancing',\n",
        "        'bungie-jumping','movies', 'basketball','exercise','sleeping','video-games','skydiving','paintball',\n",
        "            'hiking','base-jumping','reading','polo','board-games','yachting', 'cross-fit','chess'),(0.91, 0.90,\n",
        "                0.89, 0.88,0.84,0.83,0.82,0.81,0.805,0.80,0.78,0.77,0.76,0.73,0.73,0.72,0.70,0.69,0.25,0.17))\n",
        "#df_data['insured_hobbies'].value_counts()"
      ],
      "execution_count": 36,
      "outputs": []
    },
    {
      "cell_type": "code",
      "metadata": {
        "colab": {
          "base_uri": "https://localhost:8080/",
          "height": 480
        },
        "id": "HWbVqh3u2KRT",
        "outputId": "5d5091d7-48c8-45a3-e014-888d24c6d0c6"
      },
      "source": [
        "df_data[['insured_occupation','fraud_reported']].groupby(['insured_occupation'], \n",
        "                as_index = False).mean().sort_values(by = 'fraud_reported', ascending = False)"
      ],
      "execution_count": 37,
      "outputs": [
        {
          "output_type": "execute_result",
          "data": {
            "text/html": [
              "<div>\n",
              "<style scoped>\n",
              "    .dataframe tbody tr th:only-of-type {\n",
              "        vertical-align: middle;\n",
              "    }\n",
              "\n",
              "    .dataframe tbody tr th {\n",
              "        vertical-align: top;\n",
              "    }\n",
              "\n",
              "    .dataframe thead th {\n",
              "        text-align: right;\n",
              "    }\n",
              "</style>\n",
              "<table border=\"1\" class=\"dataframe\">\n",
              "  <thead>\n",
              "    <tr style=\"text-align: right;\">\n",
              "      <th></th>\n",
              "      <th>insured_occupation</th>\n",
              "      <th>fraud_reported</th>\n",
              "    </tr>\n",
              "  </thead>\n",
              "  <tbody>\n",
              "    <tr>\n",
              "      <th>7</th>\n",
              "      <td>other-service</td>\n",
              "      <td>0.830986</td>\n",
              "    </tr>\n",
              "    <tr>\n",
              "      <th>8</th>\n",
              "      <td>priv-house-serv</td>\n",
              "      <td>0.830986</td>\n",
              "    </tr>\n",
              "    <tr>\n",
              "      <th>0</th>\n",
              "      <td>adm-clerical</td>\n",
              "      <td>0.830769</td>\n",
              "    </tr>\n",
              "    <tr>\n",
              "      <th>5</th>\n",
              "      <td>handlers-cleaners</td>\n",
              "      <td>0.796296</td>\n",
              "    </tr>\n",
              "    <tr>\n",
              "      <th>9</th>\n",
              "      <td>prof-specialty</td>\n",
              "      <td>0.788235</td>\n",
              "    </tr>\n",
              "    <tr>\n",
              "      <th>10</th>\n",
              "      <td>protective-serv</td>\n",
              "      <td>0.777778</td>\n",
              "    </tr>\n",
              "    <tr>\n",
              "      <th>6</th>\n",
              "      <td>machine-op-inspct</td>\n",
              "      <td>0.763441</td>\n",
              "    </tr>\n",
              "    <tr>\n",
              "      <th>1</th>\n",
              "      <td>armed-forces</td>\n",
              "      <td>0.753623</td>\n",
              "    </tr>\n",
              "    <tr>\n",
              "      <th>11</th>\n",
              "      <td>sales</td>\n",
              "      <td>0.723684</td>\n",
              "    </tr>\n",
              "    <tr>\n",
              "      <th>12</th>\n",
              "      <td>tech-support</td>\n",
              "      <td>0.717949</td>\n",
              "    </tr>\n",
              "    <tr>\n",
              "      <th>13</th>\n",
              "      <td>transport-moving</td>\n",
              "      <td>0.708333</td>\n",
              "    </tr>\n",
              "    <tr>\n",
              "      <th>2</th>\n",
              "      <td>craft-repair</td>\n",
              "      <td>0.702703</td>\n",
              "    </tr>\n",
              "    <tr>\n",
              "      <th>4</th>\n",
              "      <td>farming-fishing</td>\n",
              "      <td>0.698113</td>\n",
              "    </tr>\n",
              "    <tr>\n",
              "      <th>3</th>\n",
              "      <td>exec-managerial</td>\n",
              "      <td>0.631579</td>\n",
              "    </tr>\n",
              "  </tbody>\n",
              "</table>\n",
              "</div>"
            ],
            "text/plain": [
              "   insured_occupation  fraud_reported\n",
              "7       other-service        0.830986\n",
              "8     priv-house-serv        0.830986\n",
              "0        adm-clerical        0.830769\n",
              "5   handlers-cleaners        0.796296\n",
              "9      prof-specialty        0.788235\n",
              "10    protective-serv        0.777778\n",
              "6   machine-op-inspct        0.763441\n",
              "1        armed-forces        0.753623\n",
              "11              sales        0.723684\n",
              "12       tech-support        0.717949\n",
              "13   transport-moving        0.708333\n",
              "2        craft-repair        0.702703\n",
              "4     farming-fishing        0.698113\n",
              "3     exec-managerial        0.631579"
            ]
          },
          "metadata": {},
          "execution_count": 37
        }
      ]
    },
    {
      "cell_type": "code",
      "metadata": {
        "id": "Tf4UHT-s2PJe"
      },
      "source": [
        "df_data['insured_occupation'] = df_data['insured_occupation'].replace(('other-service','priv-house-serv',\n",
        "                        'adm-clerical','handlers-cleaners','prof-specialty','protective-serv',\n",
        "                'machine-op-inspct','armed-forces','sales','tech-support','transport-moving','craft-repair',\n",
        "                    'farming-fishing','exec-managerial'),(0.84, 0.84,0.83, 0.79,0.78,0.77,0.76,0.75,0.72,0.71,\n",
        "                                                          0.705,0.70,0.69,0.63))\n",
        "#df_data['insured_occupation'].value_counts()"
      ],
      "execution_count": 38,
      "outputs": []
    },
    {
      "cell_type": "code",
      "metadata": {
        "colab": {
          "base_uri": "https://localhost:8080/",
          "height": 265
        },
        "id": "irKCq1cF2Wg1",
        "outputId": "a200bf19-ccca-4848-f84b-0bdab8b0a850"
      },
      "source": [
        "df_data[['insured_education_level','fraud_reported']].groupby(['insured_education_level'], \n",
        "                as_index = False).mean().sort_values(by = 'fraud_reported', ascending = False)"
      ],
      "execution_count": 39,
      "outputs": [
        {
          "output_type": "execute_result",
          "data": {
            "text/html": [
              "<div>\n",
              "<style scoped>\n",
              "    .dataframe tbody tr th:only-of-type {\n",
              "        vertical-align: middle;\n",
              "    }\n",
              "\n",
              "    .dataframe tbody tr th {\n",
              "        vertical-align: top;\n",
              "    }\n",
              "\n",
              "    .dataframe thead th {\n",
              "        text-align: right;\n",
              "    }\n",
              "</style>\n",
              "<table border=\"1\" class=\"dataframe\">\n",
              "  <thead>\n",
              "    <tr style=\"text-align: right;\">\n",
              "      <th></th>\n",
              "      <th>insured_education_level</th>\n",
              "      <th>fraud_reported</th>\n",
              "    </tr>\n",
              "  </thead>\n",
              "  <tbody>\n",
              "    <tr>\n",
              "      <th>5</th>\n",
              "      <td>Masters</td>\n",
              "      <td>0.776224</td>\n",
              "    </tr>\n",
              "    <tr>\n",
              "      <th>2</th>\n",
              "      <td>High School</td>\n",
              "      <td>0.775000</td>\n",
              "    </tr>\n",
              "    <tr>\n",
              "      <th>0</th>\n",
              "      <td>Associate</td>\n",
              "      <td>0.765517</td>\n",
              "    </tr>\n",
              "    <tr>\n",
              "      <th>3</th>\n",
              "      <td>JD</td>\n",
              "      <td>0.739130</td>\n",
              "    </tr>\n",
              "    <tr>\n",
              "      <th>1</th>\n",
              "      <td>College</td>\n",
              "      <td>0.737705</td>\n",
              "    </tr>\n",
              "    <tr>\n",
              "      <th>4</th>\n",
              "      <td>MD</td>\n",
              "      <td>0.736111</td>\n",
              "    </tr>\n",
              "    <tr>\n",
              "      <th>6</th>\n",
              "      <td>PhD</td>\n",
              "      <td>0.736000</td>\n",
              "    </tr>\n",
              "  </tbody>\n",
              "</table>\n",
              "</div>"
            ],
            "text/plain": [
              "  insured_education_level  fraud_reported\n",
              "5                 Masters        0.776224\n",
              "2             High School        0.775000\n",
              "0               Associate        0.765517\n",
              "3                      JD        0.739130\n",
              "1                 College        0.737705\n",
              "4                      MD        0.736111\n",
              "6                     PhD        0.736000"
            ]
          },
          "metadata": {},
          "execution_count": 39
        }
      ]
    },
    {
      "cell_type": "code",
      "metadata": {
        "id": "ZudOROzi2dRL"
      },
      "source": [
        "df_data['insured_education_level'] = df_data['insured_education_level'].replace(('Masters', 'High School','Associate',\n",
        "                                        'JD','College', 'MD','PhD'),(0.78,0.77,0.76,0.74,0.73,0.72,0.71))\n",
        "#df_data['insured_education_level'].value_counts()"
      ],
      "execution_count": 40,
      "outputs": []
    },
    {
      "cell_type": "code",
      "metadata": {
        "colab": {
          "base_uri": "https://localhost:8080/",
          "height": 110
        },
        "id": "TzY-sqAU2hdb",
        "outputId": "347d9aee-e9b4-4f51-f4ee-f5b2335e2c84"
      },
      "source": [
        "df_data[['insured_sex','fraud_reported']].groupby(['insured_sex'], as_index = False).mean().sort_values(\n",
        "    by = 'fraud_reported', ascending = False)"
      ],
      "execution_count": 41,
      "outputs": [
        {
          "output_type": "execute_result",
          "data": {
            "text/html": [
              "<div>\n",
              "<style scoped>\n",
              "    .dataframe tbody tr th:only-of-type {\n",
              "        vertical-align: middle;\n",
              "    }\n",
              "\n",
              "    .dataframe tbody tr th {\n",
              "        vertical-align: top;\n",
              "    }\n",
              "\n",
              "    .dataframe thead th {\n",
              "        text-align: right;\n",
              "    }\n",
              "</style>\n",
              "<table border=\"1\" class=\"dataframe\">\n",
              "  <thead>\n",
              "    <tr style=\"text-align: right;\">\n",
              "      <th></th>\n",
              "      <th>insured_sex</th>\n",
              "      <th>fraud_reported</th>\n",
              "    </tr>\n",
              "  </thead>\n",
              "  <tbody>\n",
              "    <tr>\n",
              "      <th>0</th>\n",
              "      <td>FEMALE</td>\n",
              "      <td>0.765363</td>\n",
              "    </tr>\n",
              "    <tr>\n",
              "      <th>1</th>\n",
              "      <td>MALE</td>\n",
              "      <td>0.738661</td>\n",
              "    </tr>\n",
              "  </tbody>\n",
              "</table>\n",
              "</div>"
            ],
            "text/plain": [
              "  insured_sex  fraud_reported\n",
              "0      FEMALE        0.765363\n",
              "1        MALE        0.738661"
            ]
          },
          "metadata": {},
          "execution_count": 41
        }
      ]
    },
    {
      "cell_type": "code",
      "metadata": {
        "id": "YkrI1UnX2mHr"
      },
      "source": [
        "df_data['insured_sex'] = df_data['insured_sex'].replace(('FEMALE','MALE'),(0.76,0.73))\n",
        "#df_data['insured_sex'].value_counts()"
      ],
      "execution_count": 42,
      "outputs": []
    },
    {
      "cell_type": "code",
      "metadata": {
        "colab": {
          "base_uri": "https://localhost:8080/",
          "height": 142
        },
        "id": "GUu4P0MV2sTD",
        "outputId": "d930acc4-4bb1-4ec2-96fd-da75a8f5e27a"
      },
      "source": [
        "df_data[['policy_csl','fraud_reported']].groupby(['policy_csl'], as_index = False).mean().sort_values(\n",
        "    by = 'fraud_reported', ascending = False)"
      ],
      "execution_count": 43,
      "outputs": [
        {
          "output_type": "execute_result",
          "data": {
            "text/html": [
              "<div>\n",
              "<style scoped>\n",
              "    .dataframe tbody tr th:only-of-type {\n",
              "        vertical-align: middle;\n",
              "    }\n",
              "\n",
              "    .dataframe tbody tr th {\n",
              "        vertical-align: top;\n",
              "    }\n",
              "\n",
              "    .dataframe thead th {\n",
              "        text-align: right;\n",
              "    }\n",
              "</style>\n",
              "<table border=\"1\" class=\"dataframe\">\n",
              "  <thead>\n",
              "    <tr style=\"text-align: right;\">\n",
              "      <th></th>\n",
              "      <th>policy_csl</th>\n",
              "      <th>fraud_reported</th>\n",
              "    </tr>\n",
              "  </thead>\n",
              "  <tbody>\n",
              "    <tr>\n",
              "      <th>2</th>\n",
              "      <td>500/1000</td>\n",
              "      <td>0.783333</td>\n",
              "    </tr>\n",
              "    <tr>\n",
              "      <th>0</th>\n",
              "      <td>100/300</td>\n",
              "      <td>0.742120</td>\n",
              "    </tr>\n",
              "    <tr>\n",
              "      <th>1</th>\n",
              "      <td>250/500</td>\n",
              "      <td>0.737892</td>\n",
              "    </tr>\n",
              "  </tbody>\n",
              "</table>\n",
              "</div>"
            ],
            "text/plain": [
              "  policy_csl  fraud_reported\n",
              "2   500/1000        0.783333\n",
              "0    100/300        0.742120\n",
              "1    250/500        0.737892"
            ]
          },
          "metadata": {},
          "execution_count": 43
        }
      ]
    },
    {
      "cell_type": "code",
      "metadata": {
        "id": "c56D4YdR20Fo"
      },
      "source": [
        "df_data['policy_csl'] = df_data['policy_csl'].replace(('500/1000','100/300','250/500'),(0.78,0.74,0.73))\n",
        "\n",
        "#df_data['policy_csl'].value_counts()"
      ],
      "execution_count": 44,
      "outputs": []
    },
    {
      "cell_type": "code",
      "metadata": {
        "colab": {
          "base_uri": "https://localhost:8080/",
          "height": 142
        },
        "id": "NspF6C2k2-2k",
        "outputId": "bd54cd8e-5b12-463e-94be-e40bd86e28fa"
      },
      "source": [
        "df_data[['policy_state','fraud_reported']].groupby(['policy_state'], as_index = False).mean().sort_values(\n",
        "    by = 'fraud_reported', ascending = False)"
      ],
      "execution_count": 45,
      "outputs": [
        {
          "output_type": "execute_result",
          "data": {
            "text/html": [
              "<div>\n",
              "<style scoped>\n",
              "    .dataframe tbody tr th:only-of-type {\n",
              "        vertical-align: middle;\n",
              "    }\n",
              "\n",
              "    .dataframe tbody tr th {\n",
              "        vertical-align: top;\n",
              "    }\n",
              "\n",
              "    .dataframe thead th {\n",
              "        text-align: right;\n",
              "    }\n",
              "</style>\n",
              "<table border=\"1\" class=\"dataframe\">\n",
              "  <thead>\n",
              "    <tr style=\"text-align: right;\">\n",
              "      <th></th>\n",
              "      <th>policy_state</th>\n",
              "      <th>fraud_reported</th>\n",
              "    </tr>\n",
              "  </thead>\n",
              "  <tbody>\n",
              "    <tr>\n",
              "      <th>0</th>\n",
              "      <td>IL</td>\n",
              "      <td>0.772189</td>\n",
              "    </tr>\n",
              "    <tr>\n",
              "      <th>1</th>\n",
              "      <td>IN</td>\n",
              "      <td>0.745161</td>\n",
              "    </tr>\n",
              "    <tr>\n",
              "      <th>2</th>\n",
              "      <td>OH</td>\n",
              "      <td>0.741477</td>\n",
              "    </tr>\n",
              "  </tbody>\n",
              "</table>\n",
              "</div>"
            ],
            "text/plain": [
              "  policy_state  fraud_reported\n",
              "0           IL        0.772189\n",
              "1           IN        0.745161\n",
              "2           OH        0.741477"
            ]
          },
          "metadata": {},
          "execution_count": 45
        }
      ]
    },
    {
      "cell_type": "code",
      "metadata": {
        "id": "nrZXr-gw3Eag"
      },
      "source": [
        "df_data['policy_state'] = df_data['policy_state'].replace(('IL','IN','OH'),(0.77,0.745,0.74))\n",
        "\n",
        "#df_data['policy_state'].value_counts()"
      ],
      "execution_count": 46,
      "outputs": []
    },
    {
      "cell_type": "markdown",
      "metadata": {
        "id": "eyY8_oFyQLCa"
      },
      "source": [
        "We delete unnecassary columns which i think is not really a part of deciding factor of whether it is a fraud or not and check remaining columns."
      ]
    },
    {
      "cell_type": "code",
      "metadata": {
        "colab": {
          "base_uri": "https://localhost:8080/"
        },
        "id": "aeo2hEm13KNj",
        "outputId": "d6bba602-d47c-4acf-a54b-6b5bf2b6fd1a"
      },
      "source": [
        "df_data = df_data.drop(['policy_number','policy_bind_date', 'incident_date','incident_location','auto_model'], axis = 1)\n",
        "df_data.info()"
      ],
      "execution_count": 47,
      "outputs": [
        {
          "output_type": "stream",
          "name": "stdout",
          "text": [
            "<class 'pandas.core.frame.DataFrame'>\n",
            "RangeIndex: 1000 entries, 0 to 999\n",
            "Data columns (total 32 columns):\n",
            " #   Column                       Non-Null Count  Dtype  \n",
            "---  ------                       --------------  -----  \n",
            " 0   months_as_customer           1000 non-null   int64  \n",
            " 1   policy_state                 1000 non-null   float64\n",
            " 2   policy_csl                   1000 non-null   float64\n",
            " 3   policy_deductable            1000 non-null   int64  \n",
            " 4   policy_annual_premium        1000 non-null   float64\n",
            " 5   umbrella_limit               1000 non-null   int64  \n",
            " 6   insured_zip                  1000 non-null   int64  \n",
            " 7   insured_sex                  1000 non-null   float64\n",
            " 8   insured_education_level      1000 non-null   float64\n",
            " 9   insured_occupation           1000 non-null   float64\n",
            " 10  insured_hobbies              1000 non-null   float64\n",
            " 11  insured_relationship         1000 non-null   float64\n",
            " 12  capital-gains                1000 non-null   int64  \n",
            " 13  capital-loss                 1000 non-null   int64  \n",
            " 14  incident_type                1000 non-null   float64\n",
            " 15  collision_type               1000 non-null   float64\n",
            " 16  incident_severity            1000 non-null   float64\n",
            " 17  authorities_contacted        1000 non-null   float64\n",
            " 18  incident_state               1000 non-null   float64\n",
            " 19  incident_city                1000 non-null   float64\n",
            " 20  incident_hour_of_the_day     1000 non-null   int64  \n",
            " 21  number_of_vehicles_involved  1000 non-null   int64  \n",
            " 22  property_damage              1000 non-null   float64\n",
            " 23  bodily_injuries              1000 non-null   int64  \n",
            " 24  witnesses                    1000 non-null   int64  \n",
            " 25  police_report_available      1000 non-null   float64\n",
            " 26  injury_claim                 1000 non-null   int64  \n",
            " 27  property_claim               1000 non-null   int64  \n",
            " 28  vehicle_claim                1000 non-null   int64  \n",
            " 29  auto_make                    1000 non-null   float64\n",
            " 30  auto_year                    1000 non-null   int64  \n",
            " 31  fraud_reported               1000 non-null   int64  \n",
            "dtypes: float64(17), int64(15)\n",
            "memory usage: 250.1 KB\n"
          ]
        }
      ]
    },
    {
      "cell_type": "markdown",
      "metadata": {
        "id": "4fO55SCUeNW5"
      },
      "source": [
        "# Question 2 \n",
        "\n",
        "Inspect the data and set up a suitable cross validator object from `sklearn.model_selection` to use for this test. Discuss the reasoning behind the cross validator of your choice. Are there any data properties that influenced your decision?\n",
        "\n",
        "**Hint:** Pay attention to the random seed of your cross validator, also for other models."
      ]
    },
    {
      "cell_type": "markdown",
      "metadata": {
        "id": "2mxrhfFraPfZ"
      },
      "source": [
        ""
      ]
    },
    {
      "cell_type": "code",
      "metadata": {
        "colab": {
          "base_uri": "https://localhost:8080/"
        },
        "id": "on5VPnobeNW6",
        "outputId": "fff37a11-a192-4bad-aec7-b387d1ae4cb8"
      },
      "source": [
        "# let's split the data into dependent and independent sets\n",
        "\n",
        "x = df_data.drop(['fraud_reported'], axis = 1)\n",
        "y = df_data['fraud_reported']\n",
        "\n",
        "print(\"Shape of x :\", x.shape)\n",
        "print(\"Shape of y :\", y.shape)"
      ],
      "execution_count": 48,
      "outputs": [
        {
          "output_type": "stream",
          "name": "stdout",
          "text": [
            "Shape of x : (1000, 31)\n",
            "Shape of y : (1000,)\n"
          ]
        }
      ]
    },
    {
      "cell_type": "markdown",
      "metadata": {
        "id": "f0PvMhGctOln"
      },
      "source": [
        "I used repeated k fold cross validation since Leave one out cross valiation is preferd for smaller datasets and we can achieve less noise by using t times k fold cross validation instead of genric k fold cross validation.I also tested the model using train-test split but it gave much lower accuracy comare to this validation method."
      ]
    },
    {
      "cell_type": "code",
      "metadata": {
        "colab": {
          "base_uri": "https://localhost:8080/"
        },
        "id": "Sf3lsT0Noz2D",
        "outputId": "1435407d-68ef-405e-c5ea-58024b21f283"
      },
      "source": [
        "# Your answer\n",
        "\n",
        "\n",
        "rkf = RepeatedKFold(n_splits=10, n_repeats=10, random_state=2652124)\n",
        "for train_index, test_index in rkf.split(x):\n",
        "  x_train, x_test = x.iloc[train_index], x.iloc[test_index]\n",
        "  y_train, y_test = y.iloc[train_index], y.iloc[test_index]\n",
        "\n",
        "print(\"Shape of x_train :\", x_train.shape)\n",
        "print(\"Shape of x_test :\", x_test.shape)\n",
        "print(\"Shape of y_train :\", y_train.shape)\n",
        "print(\"Shape of y_test :\", y_test.shape)"
      ],
      "execution_count": 49,
      "outputs": [
        {
          "output_type": "stream",
          "name": "stdout",
          "text": [
            "Shape of x_train : (900, 31)\n",
            "Shape of x_test : (100, 31)\n",
            "Shape of y_train : (900,)\n",
            "Shape of y_test : (100,)\n"
          ]
        }
      ]
    },
    {
      "cell_type": "code",
      "metadata": {
        "id": "ZAmI10P1eNW6"
      },
      "source": [
        "# from sklearn.model_selection import train_test_split\n",
        "\n",
        "#x_train, x_test, y_train, y_test = train_test_split(x, y, test_size = 0.2, random_state = 0)\n",
        "\n",
        "#print(\"Shape of x_train :\", x_train.shape)\n",
        "#print(\"Shape of x_test :\", x_test.shape)\n",
        "#print(\"Shape of y_train :\", y_train.shape)\n",
        "#print(\"Shape of y_test :\", y_test.shape)"
      ],
      "execution_count": 50,
      "outputs": []
    },
    {
      "cell_type": "markdown",
      "metadata": {
        "id": "9wHSj-_AeNW7"
      },
      "source": [
        "# Question 3a \n",
        "As a starting point, define a *simple* benchmark model. It should have three properties\n",
        "1. Simple and fast to fit\n",
        "2. Support cross validation\n",
        "3. Have the properties to calculate the performance scores `precision`, `recall` and `f1`\n",
        "\n",
        "After choosing a benchmark model, calculate the three performance scores for all training and testing datasets of your cross validator. For each score, calculate the average and standard deviation over all folds."
      ]
    },
    {
      "cell_type": "code",
      "metadata": {
        "id": "xqusjMZwuhWh"
      },
      "source": [
        "\n",
        "\n",
        "dummy_clf = DummyClassifier(strategy='uniform', random_state=42)\n",
        "dummy_clf.fit(x_train, y_train)\n",
        "y_pred = dummy_clf.predict(x_test)"
      ],
      "execution_count": 51,
      "outputs": []
    },
    {
      "cell_type": "code",
      "metadata": {
        "colab": {
          "base_uri": "https://localhost:8080/"
        },
        "id": "xx7rtOt8y9mW",
        "outputId": "f4135e2f-a1c3-48cf-9b8b-daaeb689048b"
      },
      "source": [
        "print(classification_report(y_train,dummy_clf.predict(x_train)))\n",
        "print(classification_report(y_test, y_pred))"
      ],
      "execution_count": 52,
      "outputs": [
        {
          "output_type": "stream",
          "name": "stdout",
          "text": [
            "              precision    recall  f1-score   support\n",
            "\n",
            "           0       0.22      0.43      0.29       229\n",
            "           1       0.72      0.49      0.58       671\n",
            "\n",
            "    accuracy                           0.47       900\n",
            "   macro avg       0.47      0.46      0.44       900\n",
            "weighted avg       0.59      0.47      0.51       900\n",
            "\n",
            "              precision    recall  f1-score   support\n",
            "\n",
            "           0       0.14      0.33      0.19        18\n",
            "           1       0.79      0.54      0.64        82\n",
            "\n",
            "    accuracy                           0.50       100\n",
            "   macro avg       0.46      0.43      0.42       100\n",
            "weighted avg       0.67      0.50      0.56       100\n",
            "\n"
          ]
        }
      ]
    },
    {
      "cell_type": "code",
      "metadata": {
        "colab": {
          "base_uri": "https://localhost:8080/",
          "height": 354
        },
        "id": "oC3iY2we4F4N",
        "outputId": "9334eaf7-a1a9-4c5a-c326-805f895a2f00"
      },
      "source": [
        "benchmark_train_acc = accuracy_score(y_train, dummy_clf.predict(x_train))\n",
        "benchmark_test_acc = accuracy_score(y_test, y_pred)\n",
        "\n",
        "print(f\"Training accuracy of is : {benchmark_train_acc}\")\n",
        "print(f\"Test accuracy of is : {benchmark_test_acc}\")\n",
        "\n",
        "plt.rcParams['figure.figsize'] = (5, 5)\n",
        "cm = confusion_matrix(y_test, y_pred)\n",
        "sns.heatmap(cm, annot = True, cmap = 'magma')\n",
        "plt.show()"
      ],
      "execution_count": 53,
      "outputs": [
        {
          "output_type": "stream",
          "name": "stdout",
          "text": [
            "Training accuracy of is : 0.47333333333333333\n",
            "Test accuracy of is : 0.5\n"
          ]
        },
        {
          "output_type": "display_data",
          "data": {
            "image/png": "[encoded data removed]",
            "text/plain": [
              "<Figure size 360x360 with 2 Axes>"
            ]
          },
          "metadata": {
            "needs_background": "light"
          }
        }
      ]
    },
    {
      "cell_type": "code",
      "metadata": {
        "id": "gQnPmQKF48Fs"
      },
      "source": [
        "\n",
        "\n",
        "lasso = linear_model.Lasso()\n",
        "cv_results = cross_validate(lasso, x_test, y_test, cv=10)\n",
        "sorted(cv_results.keys())\n",
        "['fit_time', 'score_time', 'test_score']\n",
        "cv_results['test_score']\n",
        "cv_results= pd.DataFrame(cv_results)"
      ],
      "execution_count": 54,
      "outputs": []
    },
    {
      "cell_type": "code",
      "metadata": {
        "colab": {
          "base_uri": "https://localhost:8080/"
        },
        "id": "gPYPn8t899Wo",
        "outputId": "ad743ca9-3e5b-419d-f47f-932a7ee77d69"
      },
      "source": [
        "print(cv_results.mean(axis = 0))\n",
        "print(cv_results.std(axis = 0))"
      ],
      "execution_count": 55,
      "outputs": [
        {
          "output_type": "stream",
          "name": "stdout",
          "text": [
            "fit_time      0.002496\n",
            "score_time    0.001574\n",
            "test_score   -0.244598\n",
            "dtype: float64\n",
            "fit_time      0.000852\n",
            "score_time    0.000559\n",
            "test_score    0.358112\n",
            "dtype: float64\n"
          ]
        }
      ]
    },
    {
      "cell_type": "markdown",
      "metadata": {
        "id": "HA7-eroUeNW8"
      },
      "source": [
        "# Question 3b\n",
        "\n",
        "Depending on how you pre-processed your data, it is likely that you have many more features than necessary. \n",
        "\n",
        "Does the regularized version do better than the benchmark model in all aspects? Explain why or why not. \n",
        "\n",
        "As part of your answer, find a way to visualize and/or tabulate the cross validated scores.\n",
        "\n"
      ]
    },
    {
      "cell_type": "code",
      "metadata": {
        "id": "lJ2zV0kgeNW8",
        "colab": {
          "base_uri": "https://localhost:8080/",
          "height": 203
        },
        "outputId": "d2760b14-2682-4483-f589-2a6c64c36005"
      },
      "source": [
        "cv_results.head()"
      ],
      "execution_count": 56,
      "outputs": [
        {
          "output_type": "execute_result",
          "data": {
            "text/html": [
              "<div>\n",
              "<style scoped>\n",
              "    .dataframe tbody tr th:only-of-type {\n",
              "        vertical-align: middle;\n",
              "    }\n",
              "\n",
              "    .dataframe tbody tr th {\n",
              "        vertical-align: top;\n",
              "    }\n",
              "\n",
              "    .dataframe thead th {\n",
              "        text-align: right;\n",
              "    }\n",
              "</style>\n",
              "<table border=\"1\" class=\"dataframe\">\n",
              "  <thead>\n",
              "    <tr style=\"text-align: right;\">\n",
              "      <th></th>\n",
              "      <th>fit_time</th>\n",
              "      <th>score_time</th>\n",
              "      <th>test_score</th>\n",
              "    </tr>\n",
              "  </thead>\n",
              "  <tbody>\n",
              "    <tr>\n",
              "      <th>0</th>\n",
              "      <td>0.003065</td>\n",
              "      <td>0.001512</td>\n",
              "      <td>0.096373</td>\n",
              "    </tr>\n",
              "    <tr>\n",
              "      <th>1</th>\n",
              "      <td>0.002721</td>\n",
              "      <td>0.002342</td>\n",
              "      <td>-0.062049</td>\n",
              "    </tr>\n",
              "    <tr>\n",
              "      <th>2</th>\n",
              "      <td>0.002985</td>\n",
              "      <td>0.001506</td>\n",
              "      <td>-0.569855</td>\n",
              "    </tr>\n",
              "    <tr>\n",
              "      <th>3</th>\n",
              "      <td>0.002507</td>\n",
              "      <td>0.002833</td>\n",
              "      <td>0.000000</td>\n",
              "    </tr>\n",
              "    <tr>\n",
              "      <th>4</th>\n",
              "      <td>0.004447</td>\n",
              "      <td>0.001375</td>\n",
              "      <td>-0.472893</td>\n",
              "    </tr>\n",
              "  </tbody>\n",
              "</table>\n",
              "</div>"
            ],
            "text/plain": [
              "   fit_time  score_time  test_score\n",
              "0  0.003065    0.001512    0.096373\n",
              "1  0.002721    0.002342   -0.062049\n",
              "2  0.002985    0.001506   -0.569855\n",
              "3  0.002507    0.002833    0.000000\n",
              "4  0.004447    0.001375   -0.472893"
            ]
          },
          "metadata": {},
          "execution_count": 56
        }
      ]
    },
    {
      "cell_type": "markdown",
      "metadata": {
        "id": "h4NFOtbeeNW8"
      },
      "source": [
        "# Question 4 "
      ]
    },
    {
      "cell_type": "markdown",
      "metadata": {
        "id": "c7W_sL02eNW9"
      },
      "source": [
        "A basic building block for classification is the decision tree. Use `DecisionTreeClassifier` from `sklearn` to classify the same data. Which hyperparameters need to be chosen via cross validation?\n",
        "\n",
        "Again, does your model do better than the previous models in all aspects? Explain why or why not.\n",
        "\n",
        "Tabulate and/or visualize your performance."
      ]
    },
    {
      "cell_type": "code",
      "metadata": {
        "id": "m5aVcYMFeNW9"
      },
      "source": [
        "# Your answer\n",
        "\n",
        "\n",
        "\n",
        "dtc = DecisionTreeClassifier()\n",
        "dtc.fit(x_train, y_train)\n",
        "\n",
        "y_pred = dtc.predict(x_test)\n"
      ],
      "execution_count": 57,
      "outputs": []
    },
    {
      "cell_type": "code",
      "metadata": {
        "id": "KyJKAe3oktee",
        "colab": {
          "base_uri": "https://localhost:8080/"
        },
        "outputId": "53e89daa-3407-4b40-8962-801281403213"
      },
      "source": [
        "print(classification_report(y_train,dtc.predict(x_train)))\n",
        "print(classification_report(y_test, y_pred))"
      ],
      "execution_count": 58,
      "outputs": [
        {
          "output_type": "stream",
          "name": "stdout",
          "text": [
            "              precision    recall  f1-score   support\n",
            "\n",
            "           0       1.00      1.00      1.00       229\n",
            "           1       1.00      1.00      1.00       671\n",
            "\n",
            "    accuracy                           1.00       900\n",
            "   macro avg       1.00      1.00      1.00       900\n",
            "weighted avg       1.00      1.00      1.00       900\n",
            "\n",
            "              precision    recall  f1-score   support\n",
            "\n",
            "           0       0.42      0.56      0.48        18\n",
            "           1       0.89      0.83      0.86        82\n",
            "\n",
            "    accuracy                           0.78       100\n",
            "   macro avg       0.66      0.69      0.67       100\n",
            "weighted avg       0.81      0.78      0.79       100\n",
            "\n"
          ]
        }
      ]
    },
    {
      "cell_type": "code",
      "metadata": {
        "id": "hfhE4rp-mCYW",
        "colab": {
          "base_uri": "https://localhost:8080/",
          "height": 354
        },
        "outputId": "17c3cbce-e2d4-4c15-866f-d4e67dc42d6b"
      },
      "source": [
        "dct_train_acc = accuracy_score(y_train, dtc.predict(x_train))\n",
        "dct_test_acc = accuracy_score(y_test, y_pred)\n",
        "\n",
        "print(f\"Training accuracy of is : {dct_train_acc}\")\n",
        "print(f\"Test accuracy of is : {dct_test_acc}\")\n",
        "\n",
        "plt.rcParams['figure.figsize'] = (5, 5)\n",
        "cm = confusion_matrix(y_test, y_pred)\n",
        "sns.heatmap(cm, annot = True, cmap = 'magma')\n",
        "plt.show()"
      ],
      "execution_count": 59,
      "outputs": [
        {
          "output_type": "stream",
          "name": "stdout",
          "text": [
            "Training accuracy of is : 1.0\n",
            "Test accuracy of is : 0.78\n"
          ]
        },
        {
          "output_type": "display_data",
          "data": {
            "image/png": "[encoded data removed]",
            "text/plain": [
              "<Figure size 360x360 with 2 Axes>"
            ]
          },
          "metadata": {
            "needs_background": "light"
          }
        }
      ]
    },
    {
      "cell_type": "code",
      "metadata": {
        "id": "i8LSuNWbAR_g"
      },
      "source": [
        "\n",
        "cv_results = cross_validate(lasso, x_test, y_test, cv=10)\n",
        "sorted(cv_results.keys())\n",
        "['fit_time', 'score_time', 'test_score']\n",
        "cv_results['test_score']\n",
        "cv_results= pd.DataFrame(cv_results)"
      ],
      "execution_count": 60,
      "outputs": []
    },
    {
      "cell_type": "code",
      "metadata": {
        "colab": {
          "base_uri": "https://localhost:8080/"
        },
        "id": "tXuVU5NFAWRs",
        "outputId": "7451686d-247d-43d0-eb2f-c6fffca34fe5"
      },
      "source": [
        "print(cv_results.mean(axis = 0))\n",
        "print(cv_results.std(axis = 0))"
      ],
      "execution_count": 61,
      "outputs": [
        {
          "output_type": "stream",
          "name": "stdout",
          "text": [
            "fit_time      0.003598\n",
            "score_time    0.002362\n",
            "test_score   -0.244598\n",
            "dtype: float64\n",
            "fit_time      0.000930\n",
            "score_time    0.001368\n",
            "test_score    0.358112\n",
            "dtype: float64\n"
          ]
        }
      ]
    },
    {
      "cell_type": "code",
      "metadata": {
        "colab": {
          "base_uri": "https://localhost:8080/",
          "height": 203
        },
        "id": "-ZW99UjYAZjp",
        "outputId": "06a8b6f0-956e-4dec-87f8-b50cd212f084"
      },
      "source": [
        "cv_results.head()"
      ],
      "execution_count": 62,
      "outputs": [
        {
          "output_type": "execute_result",
          "data": {
            "text/html": [
              "<div>\n",
              "<style scoped>\n",
              "    .dataframe tbody tr th:only-of-type {\n",
              "        vertical-align: middle;\n",
              "    }\n",
              "\n",
              "    .dataframe tbody tr th {\n",
              "        vertical-align: top;\n",
              "    }\n",
              "\n",
              "    .dataframe thead th {\n",
              "        text-align: right;\n",
              "    }\n",
              "</style>\n",
              "<table border=\"1\" class=\"dataframe\">\n",
              "  <thead>\n",
              "    <tr style=\"text-align: right;\">\n",
              "      <th></th>\n",
              "      <th>fit_time</th>\n",
              "      <th>score_time</th>\n",
              "      <th>test_score</th>\n",
              "    </tr>\n",
              "  </thead>\n",
              "  <tbody>\n",
              "    <tr>\n",
              "      <th>0</th>\n",
              "      <td>0.003212</td>\n",
              "      <td>0.003421</td>\n",
              "      <td>0.096373</td>\n",
              "    </tr>\n",
              "    <tr>\n",
              "      <th>1</th>\n",
              "      <td>0.004287</td>\n",
              "      <td>0.003659</td>\n",
              "      <td>-0.062049</td>\n",
              "    </tr>\n",
              "    <tr>\n",
              "      <th>2</th>\n",
              "      <td>0.002808</td>\n",
              "      <td>0.001320</td>\n",
              "      <td>-0.569855</td>\n",
              "    </tr>\n",
              "    <tr>\n",
              "      <th>3</th>\n",
              "      <td>0.002508</td>\n",
              "      <td>0.001852</td>\n",
              "      <td>0.000000</td>\n",
              "    </tr>\n",
              "    <tr>\n",
              "      <th>4</th>\n",
              "      <td>0.005437</td>\n",
              "      <td>0.005461</td>\n",
              "      <td>-0.472893</td>\n",
              "    </tr>\n",
              "  </tbody>\n",
              "</table>\n",
              "</div>"
            ],
            "text/plain": [
              "   fit_time  score_time  test_score\n",
              "0  0.003212    0.003421    0.096373\n",
              "1  0.004287    0.003659   -0.062049\n",
              "2  0.002808    0.001320   -0.569855\n",
              "3  0.002508    0.001852    0.000000\n",
              "4  0.005437    0.005461   -0.472893"
            ]
          },
          "metadata": {},
          "execution_count": 62
        }
      ]
    },
    {
      "cell_type": "markdown",
      "metadata": {
        "id": "TRnI7lrLFrUE"
      },
      "source": [
        "Yes, overall performance has increased since the dummy estimator does not learn any patterns from the features, it uses simple heuristics to calculate the predictions"
      ]
    },
    {
      "cell_type": "markdown",
      "metadata": {
        "id": "1drm2C8NeNW9"
      },
      "source": [
        "# Question 5 "
      ]
    },
    {
      "cell_type": "markdown",
      "metadata": {
        "id": "1RAV_qK9eNW-"
      },
      "source": [
        "We discussed Random Forests as extensions of Decision Trees. Implement the classification for `RandomForestClassifier`. Which hyperparameters are most relevant for your classification? \n",
        "\n",
        "Once again, does your model do better than the previous models in all aspects? Explain why or why not. \n",
        "\n",
        "Tabulate and/or visualize your performance."
      ]
    },
    {
      "cell_type": "code",
      "metadata": {
        "id": "ZM1TebO7eNW-"
      },
      "source": [
        "# Your answer\n",
        "\n",
        "\n",
        "rand_clf = RandomForestClassifier(criterion= 'entropy', max_depth= 10, max_features= 'sqrt', min_samples_leaf= 1, min_samples_split= 3, n_estimators= 140)\n",
        "rand_clf.fit(x_train, y_train)\n",
        "\n",
        "y_pred = rand_clf.predict(x_test)"
      ],
      "execution_count": 63,
      "outputs": []
    },
    {
      "cell_type": "code",
      "metadata": {
        "id": "MdxwoGQhlCW1",
        "colab": {
          "base_uri": "https://localhost:8080/"
        },
        "outputId": "f87bbea3-8c77-46c4-d6d8-2d30dc3883f8"
      },
      "source": [
        "print(classification_report(y_train,rand_clf.predict(x_train)))\n",
        "print(classification_report(y_test, y_pred))"
      ],
      "execution_count": 64,
      "outputs": [
        {
          "output_type": "stream",
          "name": "stdout",
          "text": [
            "              precision    recall  f1-score   support\n",
            "\n",
            "           0       1.00      0.96      0.98       229\n",
            "           1       0.99      1.00      0.99       671\n",
            "\n",
            "    accuracy                           0.99       900\n",
            "   macro avg       0.99      0.98      0.99       900\n",
            "weighted avg       0.99      0.99      0.99       900\n",
            "\n",
            "              precision    recall  f1-score   support\n",
            "\n",
            "           0       0.61      0.61      0.61        18\n",
            "           1       0.91      0.91      0.91        82\n",
            "\n",
            "    accuracy                           0.86       100\n",
            "   macro avg       0.76      0.76      0.76       100\n",
            "weighted avg       0.86      0.86      0.86       100\n",
            "\n"
          ]
        }
      ]
    },
    {
      "cell_type": "code",
      "metadata": {
        "id": "7nauin7sldJu",
        "colab": {
          "base_uri": "https://localhost:8080/",
          "height": 354
        },
        "outputId": "c250c7b5-0354-487b-85ff-a99f71459486"
      },
      "source": [
        "rand_clf_train_acc = accuracy_score(y_train, rand_clf.predict(x_train))\n",
        "rand_clf_test_acc = accuracy_score(y_test, y_pred)\n",
        "\n",
        "print(f\"Training accuracy of is : {rand_clf_train_acc}\")\n",
        "print(f\"Test accuracy of is : {rand_clf_test_acc}\")\n",
        "\n",
        "plt.rcParams['figure.figsize'] = (5, 5)\n",
        "cm = confusion_matrix(y_test, y_pred)\n",
        "sns.heatmap(cm, annot = True, cmap = 'magma')\n",
        "plt.show()"
      ],
      "execution_count": 65,
      "outputs": [
        {
          "output_type": "stream",
          "name": "stdout",
          "text": [
            "Training accuracy of is : 0.9888888888888889\n",
            "Test accuracy of is : 0.86\n"
          ]
        },
        {
          "output_type": "display_data",
          "data": {
            "image/png": "[encoded data removed]",
            "text/plain": [
              "<Figure size 360x360 with 2 Axes>"
            ]
          },
          "metadata": {
            "needs_background": "light"
          }
        }
      ]
    },
    {
      "cell_type": "code",
      "metadata": {
        "id": "vVdnAZM5Aecs"
      },
      "source": [
        "\n",
        "cv_results = cross_validate(lasso, x_test, y_test, cv=10)\n",
        "sorted(cv_results.keys())\n",
        "['fit_time', 'score_time', 'test_score']\n",
        "cv_results['test_score']\n",
        "cv_results= pd.DataFrame(cv_results)"
      ],
      "execution_count": 66,
      "outputs": []
    },
    {
      "cell_type": "code",
      "metadata": {
        "colab": {
          "base_uri": "https://localhost:8080/"
        },
        "id": "fd6vihY_AeyR",
        "outputId": "865e8cd3-3c4e-40fb-8599-ccf54ed89a1a"
      },
      "source": [
        "print(cv_results.mean(axis = 0))\n",
        "print(cv_results.std(axis = 0))"
      ],
      "execution_count": 67,
      "outputs": [
        {
          "output_type": "stream",
          "name": "stdout",
          "text": [
            "fit_time      0.002101\n",
            "score_time    0.001595\n",
            "test_score   -0.244598\n",
            "dtype: float64\n",
            "fit_time      0.000811\n",
            "score_time    0.001004\n",
            "test_score    0.358112\n",
            "dtype: float64\n"
          ]
        }
      ]
    },
    {
      "cell_type": "code",
      "metadata": {
        "colab": {
          "base_uri": "https://localhost:8080/",
          "height": 203
        },
        "id": "nRCbZSUDAfNV",
        "outputId": "6e931691-daee-49cd-ac2d-f1ad047c7a91"
      },
      "source": [
        "cv_results.head()"
      ],
      "execution_count": 68,
      "outputs": [
        {
          "output_type": "execute_result",
          "data": {
            "text/html": [
              "<div>\n",
              "<style scoped>\n",
              "    .dataframe tbody tr th:only-of-type {\n",
              "        vertical-align: middle;\n",
              "    }\n",
              "\n",
              "    .dataframe tbody tr th {\n",
              "        vertical-align: top;\n",
              "    }\n",
              "\n",
              "    .dataframe thead th {\n",
              "        text-align: right;\n",
              "    }\n",
              "</style>\n",
              "<table border=\"1\" class=\"dataframe\">\n",
              "  <thead>\n",
              "    <tr style=\"text-align: right;\">\n",
              "      <th></th>\n",
              "      <th>fit_time</th>\n",
              "      <th>score_time</th>\n",
              "      <th>test_score</th>\n",
              "    </tr>\n",
              "  </thead>\n",
              "  <tbody>\n",
              "    <tr>\n",
              "      <th>0</th>\n",
              "      <td>0.002224</td>\n",
              "      <td>0.001315</td>\n",
              "      <td>0.096373</td>\n",
              "    </tr>\n",
              "    <tr>\n",
              "      <th>1</th>\n",
              "      <td>0.001818</td>\n",
              "      <td>0.001237</td>\n",
              "      <td>-0.062049</td>\n",
              "    </tr>\n",
              "    <tr>\n",
              "      <th>2</th>\n",
              "      <td>0.001817</td>\n",
              "      <td>0.001234</td>\n",
              "      <td>-0.569855</td>\n",
              "    </tr>\n",
              "    <tr>\n",
              "      <th>3</th>\n",
              "      <td>0.001781</td>\n",
              "      <td>0.004417</td>\n",
              "      <td>0.000000</td>\n",
              "    </tr>\n",
              "    <tr>\n",
              "      <th>4</th>\n",
              "      <td>0.004378</td>\n",
              "      <td>0.001718</td>\n",
              "      <td>-0.472893</td>\n",
              "    </tr>\n",
              "  </tbody>\n",
              "</table>\n",
              "</div>"
            ],
            "text/plain": [
              "   fit_time  score_time  test_score\n",
              "0  0.002224    0.001315    0.096373\n",
              "1  0.001818    0.001237   -0.062049\n",
              "2  0.001817    0.001234   -0.569855\n",
              "3  0.001781    0.004417    0.000000\n",
              "4  0.004378    0.001718   -0.472893"
            ]
          },
          "metadata": {},
          "execution_count": 68
        }
      ]
    },
    {
      "cell_type": "markdown",
      "metadata": {
        "id": "-QBmR6YmGKDZ"
      },
      "source": [
        "Yes, Overall performance has increased since it is not highlt dependant on specific features and can generalize over the data in better way."
      ]
    },
    {
      "cell_type": "markdown",
      "metadata": {
        "id": "nGajsYdWeNW-"
      },
      "source": [
        "# Question 6"
      ]
    },
    {
      "cell_type": "markdown",
      "metadata": {
        "id": "8Z3KTfy_eNW_"
      },
      "source": [
        "Use an ensemble model to make the best classification you can achieve. Please only consider the following model classes:\n",
        "* Linear/logistic Regression\n",
        "* Support Vector Machines\n",
        "* Decision Trees and Random Forests\n",
        "* Regularized versions of the above models.\n",
        "\n",
        "The final classification score is as important as your explanation for its performance. That is, a model with excellent performance but no explanation for *why* it performs so well, is not sufficient.\n",
        "\n",
        "Tabulate and/or visualize your performance.\n",
        "\n",
        "**Hint:** `sklearn` has a `VotingClassifier` that can help you with this task."
      ]
    },
    {
      "cell_type": "code",
      "metadata": {
        "colab": {
          "base_uri": "https://localhost:8080/",
          "height": 656
        },
        "id": "faJCQYLGBQrA",
        "outputId": "fdb4ac76-7718-42b3-9fbc-9856db7c73ed"
      },
      "source": [
        "\n",
        "svm_clf = SVC()\n",
        "voting_clf = VotingClassifier( estimators=[('dtc', dtc), ('rf', rand_clf),\n",
        " ('svc', svm_clf)], voting='hard' )\n",
        "voting_clf.fit(x_train, y_train)\n",
        "\n",
        "y_pred = voting_clf.predict(x_test).astype(int)\n",
        "\n",
        "cr = classification_report(y_test,  y_pred)\n",
        "print(cr)\n",
        "\n",
        "print(classification_report(y_train,rand_clf.predict(x_train)))\n",
        "cm = confusion_matrix(y_test, y_pred)\n",
        "sns.heatmap(cm, annot = True, cmap = 'magma')\n",
        "plt.show()\n",
        "\n",
        "vc_train_acc = accuracy_score(y_train, rand_clf.predict(x_train))\n",
        "vc_test_acc = accuracy_score(y_test, y_pred)\n",
        "\n",
        "print(f\"Training accuracy of is : {vc_train_acc}\")\n",
        "print(f\"Test accuracy of is : {vc_test_acc}\")\n"
      ],
      "execution_count": 72,
      "outputs": [
        {
          "output_type": "stream",
          "name": "stdout",
          "text": [
            "              precision    recall  f1-score   support\n",
            "\n",
            "           0       0.71      0.56      0.63        18\n",
            "           1       0.91      0.95      0.93        82\n",
            "\n",
            "    accuracy                           0.88       100\n",
            "   macro avg       0.81      0.75      0.78       100\n",
            "weighted avg       0.87      0.88      0.87       100\n",
            "\n",
            "              precision    recall  f1-score   support\n",
            "\n",
            "           0       1.00      0.96      0.98       229\n",
            "           1       0.99      1.00      0.99       671\n",
            "\n",
            "    accuracy                           0.99       900\n",
            "   macro avg       0.99      0.98      0.99       900\n",
            "weighted avg       0.99      0.99      0.99       900\n",
            "\n"
          ]
        },
        {
          "output_type": "display_data",
          "data": {
            "image/png": "[encoded data removed]",
            "text/plain": [
              "<Figure size 360x360 with 2 Axes>"
            ]
          },
          "metadata": {
            "needs_background": "light"
          }
        },
        {
          "output_type": "stream",
          "name": "stdout",
          "text": [
            "Training accuracy of is : 0.9888888888888889\n",
            "Test accuracy of is : 0.88\n"
          ]
        }
      ]
    },
    {
      "cell_type": "code",
      "metadata": {
        "colab": {
          "base_uri": "https://localhost:8080/",
          "height": 172
        },
        "id": "owuF60gmHIsb",
        "outputId": "7caa347b-e1cd-47d2-9808-beaf7d086915"
      },
      "source": [
        "models = pd.DataFrame({\n",
        "    'Model' : ['Benchmark', 'Decision Tree', 'Random Forest', 'Voting Classifier'],\n",
        "    'Score' : [benchmark_test_acc, dct_test_acc, rand_clf_test_acc, vc_test_acc]\n",
        "})\n",
        "\n",
        "\n",
        "models.sort_values(by = 'Score', ascending = False)"
      ],
      "execution_count": 73,
      "outputs": [
        {
          "output_type": "execute_result",
          "data": {
            "text/html": [
              "<div>\n",
              "<style scoped>\n",
              "    .dataframe tbody tr th:only-of-type {\n",
              "        vertical-align: middle;\n",
              "    }\n",
              "\n",
              "    .dataframe tbody tr th {\n",
              "        vertical-align: top;\n",
              "    }\n",
              "\n",
              "    .dataframe thead th {\n",
              "        text-align: right;\n",
              "    }\n",
              "</style>\n",
              "<table border=\"1\" class=\"dataframe\">\n",
              "  <thead>\n",
              "    <tr style=\"text-align: right;\">\n",
              "      <th></th>\n",
              "      <th>Model</th>\n",
              "      <th>Score</th>\n",
              "    </tr>\n",
              "  </thead>\n",
              "  <tbody>\n",
              "    <tr>\n",
              "      <th>3</th>\n",
              "      <td>Voting Classifier</td>\n",
              "      <td>0.88</td>\n",
              "    </tr>\n",
              "    <tr>\n",
              "      <th>2</th>\n",
              "      <td>Random Forest</td>\n",
              "      <td>0.86</td>\n",
              "    </tr>\n",
              "    <tr>\n",
              "      <th>1</th>\n",
              "      <td>Decision Tree</td>\n",
              "      <td>0.78</td>\n",
              "    </tr>\n",
              "    <tr>\n",
              "      <th>0</th>\n",
              "      <td>Benchmark</td>\n",
              "      <td>0.50</td>\n",
              "    </tr>\n",
              "  </tbody>\n",
              "</table>\n",
              "</div>"
            ],
            "text/plain": [
              "               Model  Score\n",
              "3  Voting Classifier   0.88\n",
              "2      Random Forest   0.86\n",
              "1      Decision Tree   0.78\n",
              "0          Benchmark   0.50"
            ]
          },
          "metadata": {},
          "execution_count": 73
        }
      ]
    },
    {
      "cell_type": "code",
      "metadata": {
        "colab": {
          "base_uri": "https://localhost:8080/",
          "height": 450
        },
        "id": "IbHOrxeZOJaV",
        "outputId": "96fec24f-7e59-4417-add0-9dd8d9f37b8c"
      },
      "source": [
        "plt.figure(figsize = (20, 8))\n",
        "\n",
        "sns.barplot(x = 'Score', y = 'Model', data = models)\n",
        "plt.show()"
      ],
      "execution_count": 74,
      "outputs": [
        {
          "output_type": "display_data",
          "data": {
            "image/png": "[encoded data removed]",
            "text/plain": [
              "<Figure size 1440x576 with 1 Axes>"
            ]
          },
          "metadata": {
            "needs_background": "light"
          }
        }
      ]
    },
    {
      "cell_type": "markdown",
      "metadata": {
        "id": "B-92jrjdEtsX"
      },
      "source": [
        "Simply combining by voting some classifiers will naturally give bag results.Applying 3 classifiers for a set of data with 100 instance. Let's say on first 70 instances all classifiers match perfectly. Than on next 10 first classifier is good, the others are bad, on the next 10, the 2nd is good, others bad, and on the last 10 the 3rd is good, others are bad. All three models goes on with 0.80 accuracy. Voting them would lead to 0.70. but when all models in the ensemble have generally the same good performance the overall performance of voting classifer will be better. Hard voting is appropriate when the models used in the voting ensemble predict crisp class labels. Soft voting is appropriate when the models used in the voting ensemble predict the probability of class membership. So hard voting is used here. "
      ]
    }
  ]
}